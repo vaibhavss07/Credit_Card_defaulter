{
  "cells": [
    {
      "cell_type": "markdown",
      "id": "f997adb9",
      "metadata": {
        "papermill": {
          "duration": 0.01542,
          "end_time": "2022-11-11T06:28:34.557793",
          "exception": false,
          "start_time": "2022-11-11T06:28:34.542373",
          "status": "completed"
        },
        "tags": [],
        "id": "f997adb9"
      },
      "source": [
        "# Imports"
      ]
    },
    {
      "cell_type": "code",
      "execution_count": 1,
      "id": "168c65ce",
      "metadata": {
        "execution": {
          "iopub.execute_input": "2022-11-11T06:28:34.589298Z",
          "iopub.status.busy": "2022-11-11T06:28:34.588517Z",
          "iopub.status.idle": "2022-11-11T06:28:36.796343Z",
          "shell.execute_reply": "2022-11-11T06:28:36.795400Z"
        },
        "papermill": {
          "duration": 2.226429,
          "end_time": "2022-11-11T06:28:36.798857",
          "exception": false,
          "start_time": "2022-11-11T06:28:34.572428",
          "status": "completed"
        },
        "tags": [],
        "colab": {
          "base_uri": "https://localhost:8080/",
          "height": 73
        },
        "id": "168c65ce",
        "outputId": "82614a35-8871-49e8-a008-1ba26779d86c"
      },
      "outputs": [
        {
          "output_type": "display_data",
          "data": {
            "text/plain": [
              "<IPython.core.display.HTML object>"
            ],
            "text/html": [
              "\n",
              "     <input type=\"file\" id=\"files-a38860e2-9223-49b2-b8e7-508a18e941ab\" name=\"files[]\" multiple disabled\n",
              "        style=\"border:none\" />\n",
              "     <output id=\"result-a38860e2-9223-49b2-b8e7-508a18e941ab\">\n",
              "      Upload widget is only available when the cell has been executed in the\n",
              "      current browser session. Please rerun this cell to enable.\n",
              "      </output>\n",
              "      <script>// Copyright 2017 Google LLC\n",
              "//\n",
              "// Licensed under the Apache License, Version 2.0 (the \"License\");\n",
              "// you may not use this file except in compliance with the License.\n",
              "// You may obtain a copy of the License at\n",
              "//\n",
              "//      http://www.apache.org/licenses/LICENSE-2.0\n",
              "//\n",
              "// Unless required by applicable law or agreed to in writing, software\n",
              "// distributed under the License is distributed on an \"AS IS\" BASIS,\n",
              "// WITHOUT WARRANTIES OR CONDITIONS OF ANY KIND, either express or implied.\n",
              "// See the License for the specific language governing permissions and\n",
              "// limitations under the License.\n",
              "\n",
              "/**\n",
              " * @fileoverview Helpers for google.colab Python module.\n",
              " */\n",
              "(function(scope) {\n",
              "function span(text, styleAttributes = {}) {\n",
              "  const element = document.createElement('span');\n",
              "  element.textContent = text;\n",
              "  for (const key of Object.keys(styleAttributes)) {\n",
              "    element.style[key] = styleAttributes[key];\n",
              "  }\n",
              "  return element;\n",
              "}\n",
              "\n",
              "// Max number of bytes which will be uploaded at a time.\n",
              "const MAX_PAYLOAD_SIZE = 100 * 1024;\n",
              "\n",
              "function _uploadFiles(inputId, outputId) {\n",
              "  const steps = uploadFilesStep(inputId, outputId);\n",
              "  const outputElement = document.getElementById(outputId);\n",
              "  // Cache steps on the outputElement to make it available for the next call\n",
              "  // to uploadFilesContinue from Python.\n",
              "  outputElement.steps = steps;\n",
              "\n",
              "  return _uploadFilesContinue(outputId);\n",
              "}\n",
              "\n",
              "// This is roughly an async generator (not supported in the browser yet),\n",
              "// where there are multiple asynchronous steps and the Python side is going\n",
              "// to poll for completion of each step.\n",
              "// This uses a Promise to block the python side on completion of each step,\n",
              "// then passes the result of the previous step as the input to the next step.\n",
              "function _uploadFilesContinue(outputId) {\n",
              "  const outputElement = document.getElementById(outputId);\n",
              "  const steps = outputElement.steps;\n",
              "\n",
              "  const next = steps.next(outputElement.lastPromiseValue);\n",
              "  return Promise.resolve(next.value.promise).then((value) => {\n",
              "    // Cache the last promise value to make it available to the next\n",
              "    // step of the generator.\n",
              "    outputElement.lastPromiseValue = value;\n",
              "    return next.value.response;\n",
              "  });\n",
              "}\n",
              "\n",
              "/**\n",
              " * Generator function which is called between each async step of the upload\n",
              " * process.\n",
              " * @param {string} inputId Element ID of the input file picker element.\n",
              " * @param {string} outputId Element ID of the output display.\n",
              " * @return {!Iterable<!Object>} Iterable of next steps.\n",
              " */\n",
              "function* uploadFilesStep(inputId, outputId) {\n",
              "  const inputElement = document.getElementById(inputId);\n",
              "  inputElement.disabled = false;\n",
              "\n",
              "  const outputElement = document.getElementById(outputId);\n",
              "  outputElement.innerHTML = '';\n",
              "\n",
              "  const pickedPromise = new Promise((resolve) => {\n",
              "    inputElement.addEventListener('change', (e) => {\n",
              "      resolve(e.target.files);\n",
              "    });\n",
              "  });\n",
              "\n",
              "  const cancel = document.createElement('button');\n",
              "  inputElement.parentElement.appendChild(cancel);\n",
              "  cancel.textContent = 'Cancel upload';\n",
              "  const cancelPromise = new Promise((resolve) => {\n",
              "    cancel.onclick = () => {\n",
              "      resolve(null);\n",
              "    };\n",
              "  });\n",
              "\n",
              "  // Wait for the user to pick the files.\n",
              "  const files = yield {\n",
              "    promise: Promise.race([pickedPromise, cancelPromise]),\n",
              "    response: {\n",
              "      action: 'starting',\n",
              "    }\n",
              "  };\n",
              "\n",
              "  cancel.remove();\n",
              "\n",
              "  // Disable the input element since further picks are not allowed.\n",
              "  inputElement.disabled = true;\n",
              "\n",
              "  if (!files) {\n",
              "    return {\n",
              "      response: {\n",
              "        action: 'complete',\n",
              "      }\n",
              "    };\n",
              "  }\n",
              "\n",
              "  for (const file of files) {\n",
              "    const li = document.createElement('li');\n",
              "    li.append(span(file.name, {fontWeight: 'bold'}));\n",
              "    li.append(span(\n",
              "        `(${file.type || 'n/a'}) - ${file.size} bytes, ` +\n",
              "        `last modified: ${\n",
              "            file.lastModifiedDate ? file.lastModifiedDate.toLocaleDateString() :\n",
              "                                    'n/a'} - `));\n",
              "    const percent = span('0% done');\n",
              "    li.appendChild(percent);\n",
              "\n",
              "    outputElement.appendChild(li);\n",
              "\n",
              "    const fileDataPromise = new Promise((resolve) => {\n",
              "      const reader = new FileReader();\n",
              "      reader.onload = (e) => {\n",
              "        resolve(e.target.result);\n",
              "      };\n",
              "      reader.readAsArrayBuffer(file);\n",
              "    });\n",
              "    // Wait for the data to be ready.\n",
              "    let fileData = yield {\n",
              "      promise: fileDataPromise,\n",
              "      response: {\n",
              "        action: 'continue',\n",
              "      }\n",
              "    };\n",
              "\n",
              "    // Use a chunked sending to avoid message size limits. See b/62115660.\n",
              "    let position = 0;\n",
              "    do {\n",
              "      const length = Math.min(fileData.byteLength - position, MAX_PAYLOAD_SIZE);\n",
              "      const chunk = new Uint8Array(fileData, position, length);\n",
              "      position += length;\n",
              "\n",
              "      const base64 = btoa(String.fromCharCode.apply(null, chunk));\n",
              "      yield {\n",
              "        response: {\n",
              "          action: 'append',\n",
              "          file: file.name,\n",
              "          data: base64,\n",
              "        },\n",
              "      };\n",
              "\n",
              "      let percentDone = fileData.byteLength === 0 ?\n",
              "          100 :\n",
              "          Math.round((position / fileData.byteLength) * 100);\n",
              "      percent.textContent = `${percentDone}% done`;\n",
              "\n",
              "    } while (position < fileData.byteLength);\n",
              "  }\n",
              "\n",
              "  // All done.\n",
              "  yield {\n",
              "    response: {\n",
              "      action: 'complete',\n",
              "    }\n",
              "  };\n",
              "}\n",
              "\n",
              "scope.google = scope.google || {};\n",
              "scope.google.colab = scope.google.colab || {};\n",
              "scope.google.colab._files = {\n",
              "  _uploadFiles,\n",
              "  _uploadFilesContinue,\n",
              "};\n",
              "})(self);\n",
              "</script> "
            ]
          },
          "metadata": {}
        },
        {
          "output_type": "stream",
          "name": "stdout",
          "text": [
            "Saving UCI_Credit_Card.csv to UCI_Credit_Card.csv\n"
          ]
        }
      ],
      "source": [
        "import numpy as np\n",
        "import pandas as pd\n",
        "import matplotlib.pyplot as plt\n",
        "import seaborn as sns\n",
        "from sklearn.metrics import classification_report\n",
        "from sklearn.metrics import confusion_matrix\n",
        "from sklearn.metrics import make_scorer,precision_recall_curve,auc,f1_score\n",
        "from sklearn.preprocessing import PowerTransformer\n",
        "from sklearn.compose import ColumnTransformer\n",
        "from sklearn.model_selection import StratifiedKFold\n",
        "from sklearn.model_selection import RepeatedStratifiedKFold\n",
        "from sklearn.model_selection import train_test_split,cross_val_score\n",
        "from sklearn.model_selection import GridSearchCV\n",
        "from imblearn.under_sampling import EditedNearestNeighbours\n",
        "from sklearn.linear_model import LogisticRegression\n",
        "from sklearn.naive_bayes import GaussianNB\n",
        "from sklearn.neighbors import KNeighborsClassifier\n",
        "from sklearn.ensemble import RandomForestClassifier\n",
        "from xgboost import XGBClassifier\n",
        "from lightgbm import LGBMClassifier\n",
        "%matplotlib inline\n",
        "\n",
        "import warnings\n",
        "warnings.filterwarnings('ignore')\n",
        "from google.colab import files\n",
        "uploaded = files.upload()\n",
        "from sklearn.base import BaseEstimator, TransformerMixin\n",
        "from sklearn.utils.validation import check_is_fitted"
      ]
    },
    {
      "cell_type": "markdown",
      "id": "4d716dfb",
      "metadata": {
        "papermill": {
          "duration": 0.014801,
          "end_time": "2022-11-11T06:28:36.830694",
          "exception": false,
          "start_time": "2022-11-11T06:28:36.815893",
          "status": "completed"
        },
        "tags": [],
        "id": "4d716dfb"
      },
      "source": [
        "# Data Summary"
      ]
    },
    {
      "cell_type": "code",
      "execution_count": 3,
      "id": "0693c051",
      "metadata": {
        "execution": {
          "iopub.execute_input": "2022-11-11T06:28:36.862917Z",
          "iopub.status.busy": "2022-11-11T06:28:36.862362Z",
          "iopub.status.idle": "2022-11-11T06:28:36.974851Z",
          "shell.execute_reply": "2022-11-11T06:28:36.974119Z"
        },
        "papermill": {
          "duration": 0.131419,
          "end_time": "2022-11-11T06:28:36.977219",
          "exception": false,
          "start_time": "2022-11-11T06:28:36.845800",
          "status": "completed"
        },
        "tags": [],
        "id": "0693c051"
      },
      "outputs": [],
      "source": [
        "import io\n",
        "data = pd.read_csv(io.BytesIO(uploaded['UCI_Credit_Card.csv']))"
      ]
    },
    {
      "cell_type": "code",
      "execution_count": 4,
      "id": "8907d3df",
      "metadata": {
        "execution": {
          "iopub.execute_input": "2022-11-11T06:28:37.010268Z",
          "iopub.status.busy": "2022-11-11T06:28:37.009296Z",
          "iopub.status.idle": "2022-11-11T06:28:37.042955Z",
          "shell.execute_reply": "2022-11-11T06:28:37.040357Z"
        },
        "papermill": {
          "duration": 0.052575,
          "end_time": "2022-11-11T06:28:37.045180",
          "exception": false,
          "start_time": "2022-11-11T06:28:36.992605",
          "status": "completed"
        },
        "tags": [],
        "colab": {
          "base_uri": "https://localhost:8080/",
          "height": 299
        },
        "id": "8907d3df",
        "outputId": "b05f8b2d-805a-4e1e-8df1-776bde9dd6e3"
      },
      "outputs": [
        {
          "output_type": "execute_result",
          "data": {
            "text/plain": [
              "   ID  LIMIT_BAL  SEX  EDUCATION  MARRIAGE  AGE  PAY_0  PAY_2  PAY_3  PAY_4  \\\n",
              "0   1    20000.0    2          2         1   24      2      2     -1     -1   \n",
              "1   2   120000.0    2          2         2   26     -1      2      0      0   \n",
              "2   3    90000.0    2          2         2   34      0      0      0      0   \n",
              "3   4    50000.0    2          2         1   37      0      0      0      0   \n",
              "4   5    50000.0    1          2         1   57     -1      0     -1      0   \n",
              "\n",
              "   ...  BILL_AMT4  BILL_AMT5  BILL_AMT6  PAY_AMT1  PAY_AMT2  PAY_AMT3  \\\n",
              "0  ...        0.0        0.0        0.0       0.0     689.0       0.0   \n",
              "1  ...     3272.0     3455.0     3261.0       0.0    1000.0    1000.0   \n",
              "2  ...    14331.0    14948.0    15549.0    1518.0    1500.0    1000.0   \n",
              "3  ...    28314.0    28959.0    29547.0    2000.0    2019.0    1200.0   \n",
              "4  ...    20940.0    19146.0    19131.0    2000.0   36681.0   10000.0   \n",
              "\n",
              "   PAY_AMT4  PAY_AMT5  PAY_AMT6  default.payment.next.month  \n",
              "0       0.0       0.0       0.0                           1  \n",
              "1    1000.0       0.0    2000.0                           1  \n",
              "2    1000.0    1000.0    5000.0                           0  \n",
              "3    1100.0    1069.0    1000.0                           0  \n",
              "4    9000.0     689.0     679.0                           0  \n",
              "\n",
              "[5 rows x 25 columns]"
            ],
            "text/html": [
              "\n",
              "  <div id=\"df-f5e87a96-5711-4ea0-b1f9-83f0959190f5\">\n",
              "    <div class=\"colab-df-container\">\n",
              "      <div>\n",
              "<style scoped>\n",
              "    .dataframe tbody tr th:only-of-type {\n",
              "        vertical-align: middle;\n",
              "    }\n",
              "\n",
              "    .dataframe tbody tr th {\n",
              "        vertical-align: top;\n",
              "    }\n",
              "\n",
              "    .dataframe thead th {\n",
              "        text-align: right;\n",
              "    }\n",
              "</style>\n",
              "<table border=\"1\" class=\"dataframe\">\n",
              "  <thead>\n",
              "    <tr style=\"text-align: right;\">\n",
              "      <th></th>\n",
              "      <th>ID</th>\n",
              "      <th>LIMIT_BAL</th>\n",
              "      <th>SEX</th>\n",
              "      <th>EDUCATION</th>\n",
              "      <th>MARRIAGE</th>\n",
              "      <th>AGE</th>\n",
              "      <th>PAY_0</th>\n",
              "      <th>PAY_2</th>\n",
              "      <th>PAY_3</th>\n",
              "      <th>PAY_4</th>\n",
              "      <th>...</th>\n",
              "      <th>BILL_AMT4</th>\n",
              "      <th>BILL_AMT5</th>\n",
              "      <th>BILL_AMT6</th>\n",
              "      <th>PAY_AMT1</th>\n",
              "      <th>PAY_AMT2</th>\n",
              "      <th>PAY_AMT3</th>\n",
              "      <th>PAY_AMT4</th>\n",
              "      <th>PAY_AMT5</th>\n",
              "      <th>PAY_AMT6</th>\n",
              "      <th>default.payment.next.month</th>\n",
              "    </tr>\n",
              "  </thead>\n",
              "  <tbody>\n",
              "    <tr>\n",
              "      <th>0</th>\n",
              "      <td>1</td>\n",
              "      <td>20000.0</td>\n",
              "      <td>2</td>\n",
              "      <td>2</td>\n",
              "      <td>1</td>\n",
              "      <td>24</td>\n",
              "      <td>2</td>\n",
              "      <td>2</td>\n",
              "      <td>-1</td>\n",
              "      <td>-1</td>\n",
              "      <td>...</td>\n",
              "      <td>0.0</td>\n",
              "      <td>0.0</td>\n",
              "      <td>0.0</td>\n",
              "      <td>0.0</td>\n",
              "      <td>689.0</td>\n",
              "      <td>0.0</td>\n",
              "      <td>0.0</td>\n",
              "      <td>0.0</td>\n",
              "      <td>0.0</td>\n",
              "      <td>1</td>\n",
              "    </tr>\n",
              "    <tr>\n",
              "      <th>1</th>\n",
              "      <td>2</td>\n",
              "      <td>120000.0</td>\n",
              "      <td>2</td>\n",
              "      <td>2</td>\n",
              "      <td>2</td>\n",
              "      <td>26</td>\n",
              "      <td>-1</td>\n",
              "      <td>2</td>\n",
              "      <td>0</td>\n",
              "      <td>0</td>\n",
              "      <td>...</td>\n",
              "      <td>3272.0</td>\n",
              "      <td>3455.0</td>\n",
              "      <td>3261.0</td>\n",
              "      <td>0.0</td>\n",
              "      <td>1000.0</td>\n",
              "      <td>1000.0</td>\n",
              "      <td>1000.0</td>\n",
              "      <td>0.0</td>\n",
              "      <td>2000.0</td>\n",
              "      <td>1</td>\n",
              "    </tr>\n",
              "    <tr>\n",
              "      <th>2</th>\n",
              "      <td>3</td>\n",
              "      <td>90000.0</td>\n",
              "      <td>2</td>\n",
              "      <td>2</td>\n",
              "      <td>2</td>\n",
              "      <td>34</td>\n",
              "      <td>0</td>\n",
              "      <td>0</td>\n",
              "      <td>0</td>\n",
              "      <td>0</td>\n",
              "      <td>...</td>\n",
              "      <td>14331.0</td>\n",
              "      <td>14948.0</td>\n",
              "      <td>15549.0</td>\n",
              "      <td>1518.0</td>\n",
              "      <td>1500.0</td>\n",
              "      <td>1000.0</td>\n",
              "      <td>1000.0</td>\n",
              "      <td>1000.0</td>\n",
              "      <td>5000.0</td>\n",
              "      <td>0</td>\n",
              "    </tr>\n",
              "    <tr>\n",
              "      <th>3</th>\n",
              "      <td>4</td>\n",
              "      <td>50000.0</td>\n",
              "      <td>2</td>\n",
              "      <td>2</td>\n",
              "      <td>1</td>\n",
              "      <td>37</td>\n",
              "      <td>0</td>\n",
              "      <td>0</td>\n",
              "      <td>0</td>\n",
              "      <td>0</td>\n",
              "      <td>...</td>\n",
              "      <td>28314.0</td>\n",
              "      <td>28959.0</td>\n",
              "      <td>29547.0</td>\n",
              "      <td>2000.0</td>\n",
              "      <td>2019.0</td>\n",
              "      <td>1200.0</td>\n",
              "      <td>1100.0</td>\n",
              "      <td>1069.0</td>\n",
              "      <td>1000.0</td>\n",
              "      <td>0</td>\n",
              "    </tr>\n",
              "    <tr>\n",
              "      <th>4</th>\n",
              "      <td>5</td>\n",
              "      <td>50000.0</td>\n",
              "      <td>1</td>\n",
              "      <td>2</td>\n",
              "      <td>1</td>\n",
              "      <td>57</td>\n",
              "      <td>-1</td>\n",
              "      <td>0</td>\n",
              "      <td>-1</td>\n",
              "      <td>0</td>\n",
              "      <td>...</td>\n",
              "      <td>20940.0</td>\n",
              "      <td>19146.0</td>\n",
              "      <td>19131.0</td>\n",
              "      <td>2000.0</td>\n",
              "      <td>36681.0</td>\n",
              "      <td>10000.0</td>\n",
              "      <td>9000.0</td>\n",
              "      <td>689.0</td>\n",
              "      <td>679.0</td>\n",
              "      <td>0</td>\n",
              "    </tr>\n",
              "  </tbody>\n",
              "</table>\n",
              "<p>5 rows × 25 columns</p>\n",
              "</div>\n",
              "      <button class=\"colab-df-convert\" onclick=\"convertToInteractive('df-f5e87a96-5711-4ea0-b1f9-83f0959190f5')\"\n",
              "              title=\"Convert this dataframe to an interactive table.\"\n",
              "              style=\"display:none;\">\n",
              "        \n",
              "  <svg xmlns=\"http://www.w3.org/2000/svg\" height=\"24px\"viewBox=\"0 0 24 24\"\n",
              "       width=\"24px\">\n",
              "    <path d=\"M0 0h24v24H0V0z\" fill=\"none\"/>\n",
              "    <path d=\"M18.56 5.44l.94 2.06.94-2.06 2.06-.94-2.06-.94-.94-2.06-.94 2.06-2.06.94zm-11 1L8.5 8.5l.94-2.06 2.06-.94-2.06-.94L8.5 2.5l-.94 2.06-2.06.94zm10 10l.94 2.06.94-2.06 2.06-.94-2.06-.94-.94-2.06-.94 2.06-2.06.94z\"/><path d=\"M17.41 7.96l-1.37-1.37c-.4-.4-.92-.59-1.43-.59-.52 0-1.04.2-1.43.59L10.3 9.45l-7.72 7.72c-.78.78-.78 2.05 0 2.83L4 21.41c.39.39.9.59 1.41.59.51 0 1.02-.2 1.41-.59l7.78-7.78 2.81-2.81c.8-.78.8-2.07 0-2.86zM5.41 20L4 18.59l7.72-7.72 1.47 1.35L5.41 20z\"/>\n",
              "  </svg>\n",
              "      </button>\n",
              "      \n",
              "  <style>\n",
              "    .colab-df-container {\n",
              "      display:flex;\n",
              "      flex-wrap:wrap;\n",
              "      gap: 12px;\n",
              "    }\n",
              "\n",
              "    .colab-df-convert {\n",
              "      background-color: #E8F0FE;\n",
              "      border: none;\n",
              "      border-radius: 50%;\n",
              "      cursor: pointer;\n",
              "      display: none;\n",
              "      fill: #1967D2;\n",
              "      height: 32px;\n",
              "      padding: 0 0 0 0;\n",
              "      width: 32px;\n",
              "    }\n",
              "\n",
              "    .colab-df-convert:hover {\n",
              "      background-color: #E2EBFA;\n",
              "      box-shadow: 0px 1px 2px rgba(60, 64, 67, 0.3), 0px 1px 3px 1px rgba(60, 64, 67, 0.15);\n",
              "      fill: #174EA6;\n",
              "    }\n",
              "\n",
              "    [theme=dark] .colab-df-convert {\n",
              "      background-color: #3B4455;\n",
              "      fill: #D2E3FC;\n",
              "    }\n",
              "\n",
              "    [theme=dark] .colab-df-convert:hover {\n",
              "      background-color: #434B5C;\n",
              "      box-shadow: 0px 1px 3px 1px rgba(0, 0, 0, 0.15);\n",
              "      filter: drop-shadow(0px 1px 2px rgba(0, 0, 0, 0.3));\n",
              "      fill: #FFFFFF;\n",
              "    }\n",
              "  </style>\n",
              "\n",
              "      <script>\n",
              "        const buttonEl =\n",
              "          document.querySelector('#df-f5e87a96-5711-4ea0-b1f9-83f0959190f5 button.colab-df-convert');\n",
              "        buttonEl.style.display =\n",
              "          google.colab.kernel.accessAllowed ? 'block' : 'none';\n",
              "\n",
              "        async function convertToInteractive(key) {\n",
              "          const element = document.querySelector('#df-f5e87a96-5711-4ea0-b1f9-83f0959190f5');\n",
              "          const dataTable =\n",
              "            await google.colab.kernel.invokeFunction('convertToInteractive',\n",
              "                                                     [key], {});\n",
              "          if (!dataTable) return;\n",
              "\n",
              "          const docLinkHtml = 'Like what you see? Visit the ' +\n",
              "            '<a target=\"_blank\" href=https://colab.research.google.com/notebooks/data_table.ipynb>data table notebook</a>'\n",
              "            + ' to learn more about interactive tables.';\n",
              "          element.innerHTML = '';\n",
              "          dataTable['output_type'] = 'display_data';\n",
              "          await google.colab.output.renderOutput(dataTable, element);\n",
              "          const docLink = document.createElement('div');\n",
              "          docLink.innerHTML = docLinkHtml;\n",
              "          element.appendChild(docLink);\n",
              "        }\n",
              "      </script>\n",
              "    </div>\n",
              "  </div>\n",
              "  "
            ]
          },
          "metadata": {},
          "execution_count": 4
        }
      ],
      "source": [
        "data.head()"
      ]
    },
    {
      "cell_type": "code",
      "execution_count": 5,
      "id": "bf3ae865",
      "metadata": {
        "execution": {
          "iopub.execute_input": "2022-11-11T06:28:37.079177Z",
          "iopub.status.busy": "2022-11-11T06:28:37.078045Z",
          "iopub.status.idle": "2022-11-11T06:28:37.104802Z",
          "shell.execute_reply": "2022-11-11T06:28:37.103264Z"
        },
        "papermill": {
          "duration": 0.046302,
          "end_time": "2022-11-11T06:28:37.107159",
          "exception": false,
          "start_time": "2022-11-11T06:28:37.060857",
          "status": "completed"
        },
        "tags": [],
        "colab": {
          "base_uri": "https://localhost:8080/"
        },
        "id": "bf3ae865",
        "outputId": "3c8243e5-8751-4660-a816-14d48e71b85e"
      },
      "outputs": [
        {
          "output_type": "stream",
          "name": "stdout",
          "text": [
            "<class 'pandas.core.frame.DataFrame'>\n",
            "RangeIndex: 30000 entries, 0 to 29999\n",
            "Data columns (total 25 columns):\n",
            " #   Column                      Non-Null Count  Dtype  \n",
            "---  ------                      --------------  -----  \n",
            " 0   ID                          30000 non-null  int64  \n",
            " 1   LIMIT_BAL                   30000 non-null  float64\n",
            " 2   SEX                         30000 non-null  int64  \n",
            " 3   EDUCATION                   30000 non-null  int64  \n",
            " 4   MARRIAGE                    30000 non-null  int64  \n",
            " 5   AGE                         30000 non-null  int64  \n",
            " 6   PAY_0                       30000 non-null  int64  \n",
            " 7   PAY_2                       30000 non-null  int64  \n",
            " 8   PAY_3                       30000 non-null  int64  \n",
            " 9   PAY_4                       30000 non-null  int64  \n",
            " 10  PAY_5                       30000 non-null  int64  \n",
            " 11  PAY_6                       30000 non-null  int64  \n",
            " 12  BILL_AMT1                   30000 non-null  float64\n",
            " 13  BILL_AMT2                   30000 non-null  float64\n",
            " 14  BILL_AMT3                   30000 non-null  float64\n",
            " 15  BILL_AMT4                   30000 non-null  float64\n",
            " 16  BILL_AMT5                   30000 non-null  float64\n",
            " 17  BILL_AMT6                   30000 non-null  float64\n",
            " 18  PAY_AMT1                    30000 non-null  float64\n",
            " 19  PAY_AMT2                    30000 non-null  float64\n",
            " 20  PAY_AMT3                    30000 non-null  float64\n",
            " 21  PAY_AMT4                    30000 non-null  float64\n",
            " 22  PAY_AMT5                    30000 non-null  float64\n",
            " 23  PAY_AMT6                    30000 non-null  float64\n",
            " 24  default.payment.next.month  30000 non-null  int64  \n",
            "dtypes: float64(13), int64(12)\n",
            "memory usage: 5.7 MB\n"
          ]
        }
      ],
      "source": [
        "data.info()"
      ]
    },
    {
      "cell_type": "code",
      "execution_count": 6,
      "id": "fc62132c",
      "metadata": {
        "execution": {
          "iopub.execute_input": "2022-11-11T06:28:37.141559Z",
          "iopub.status.busy": "2022-11-11T06:28:37.140567Z",
          "iopub.status.idle": "2022-11-11T06:28:37.231892Z",
          "shell.execute_reply": "2022-11-11T06:28:37.231094Z"
        },
        "papermill": {
          "duration": 0.110591,
          "end_time": "2022-11-11T06:28:37.233850",
          "exception": false,
          "start_time": "2022-11-11T06:28:37.123259",
          "status": "completed"
        },
        "tags": [],
        "colab": {
          "base_uri": "https://localhost:8080/",
          "height": 833
        },
        "id": "fc62132c",
        "outputId": "967be63a-f1ac-43f6-e31e-48328275c3d7"
      },
      "outputs": [
        {
          "output_type": "execute_result",
          "data": {
            "text/plain": [
              "                              count           mean            std       min  \\\n",
              "ID                          30000.0   15000.500000    8660.398374       1.0   \n",
              "LIMIT_BAL                   30000.0  167484.322667  129747.661567   10000.0   \n",
              "SEX                         30000.0       1.603733       0.489129       1.0   \n",
              "EDUCATION                   30000.0       1.853133       0.790349       0.0   \n",
              "MARRIAGE                    30000.0       1.551867       0.521970       0.0   \n",
              "AGE                         30000.0      35.485500       9.217904      21.0   \n",
              "PAY_0                       30000.0      -0.016700       1.123802      -2.0   \n",
              "PAY_2                       30000.0      -0.133767       1.197186      -2.0   \n",
              "PAY_3                       30000.0      -0.166200       1.196868      -2.0   \n",
              "PAY_4                       30000.0      -0.220667       1.169139      -2.0   \n",
              "PAY_5                       30000.0      -0.266200       1.133187      -2.0   \n",
              "PAY_6                       30000.0      -0.291100       1.149988      -2.0   \n",
              "BILL_AMT1                   30000.0   51223.330900   73635.860576 -165580.0   \n",
              "BILL_AMT2                   30000.0   49179.075167   71173.768783  -69777.0   \n",
              "BILL_AMT3                   30000.0   47013.154800   69349.387427 -157264.0   \n",
              "BILL_AMT4                   30000.0   43262.948967   64332.856134 -170000.0   \n",
              "BILL_AMT5                   30000.0   40311.400967   60797.155770  -81334.0   \n",
              "BILL_AMT6                   30000.0   38871.760400   59554.107537 -339603.0   \n",
              "PAY_AMT1                    30000.0    5663.580500   16563.280354       0.0   \n",
              "PAY_AMT2                    30000.0    5921.163500   23040.870402       0.0   \n",
              "PAY_AMT3                    30000.0    5225.681500   17606.961470       0.0   \n",
              "PAY_AMT4                    30000.0    4826.076867   15666.159744       0.0   \n",
              "PAY_AMT5                    30000.0    4799.387633   15278.305679       0.0   \n",
              "PAY_AMT6                    30000.0    5215.502567   17777.465775       0.0   \n",
              "default.payment.next.month  30000.0       0.221200       0.415062       0.0   \n",
              "\n",
              "                                 25%       50%        75%        max  \n",
              "ID                           7500.75   15000.5   22500.25    30000.0  \n",
              "LIMIT_BAL                   50000.00  140000.0  240000.00  1000000.0  \n",
              "SEX                             1.00       2.0       2.00        2.0  \n",
              "EDUCATION                       1.00       2.0       2.00        6.0  \n",
              "MARRIAGE                        1.00       2.0       2.00        3.0  \n",
              "AGE                            28.00      34.0      41.00       79.0  \n",
              "PAY_0                          -1.00       0.0       0.00        8.0  \n",
              "PAY_2                          -1.00       0.0       0.00        8.0  \n",
              "PAY_3                          -1.00       0.0       0.00        8.0  \n",
              "PAY_4                          -1.00       0.0       0.00        8.0  \n",
              "PAY_5                          -1.00       0.0       0.00        8.0  \n",
              "PAY_6                          -1.00       0.0       0.00        8.0  \n",
              "BILL_AMT1                    3558.75   22381.5   67091.00   964511.0  \n",
              "BILL_AMT2                    2984.75   21200.0   64006.25   983931.0  \n",
              "BILL_AMT3                    2666.25   20088.5   60164.75  1664089.0  \n",
              "BILL_AMT4                    2326.75   19052.0   54506.00   891586.0  \n",
              "BILL_AMT5                    1763.00   18104.5   50190.50   927171.0  \n",
              "BILL_AMT6                    1256.00   17071.0   49198.25   961664.0  \n",
              "PAY_AMT1                     1000.00    2100.0    5006.00   873552.0  \n",
              "PAY_AMT2                      833.00    2009.0    5000.00  1684259.0  \n",
              "PAY_AMT3                      390.00    1800.0    4505.00   896040.0  \n",
              "PAY_AMT4                      296.00    1500.0    4013.25   621000.0  \n",
              "PAY_AMT5                      252.50    1500.0    4031.50   426529.0  \n",
              "PAY_AMT6                      117.75    1500.0    4000.00   528666.0  \n",
              "default.payment.next.month      0.00       0.0       0.00        1.0  "
            ],
            "text/html": [
              "\n",
              "  <div id=\"df-5d34f42d-44da-473c-8313-9111f062647b\">\n",
              "    <div class=\"colab-df-container\">\n",
              "      <div>\n",
              "<style scoped>\n",
              "    .dataframe tbody tr th:only-of-type {\n",
              "        vertical-align: middle;\n",
              "    }\n",
              "\n",
              "    .dataframe tbody tr th {\n",
              "        vertical-align: top;\n",
              "    }\n",
              "\n",
              "    .dataframe thead th {\n",
              "        text-align: right;\n",
              "    }\n",
              "</style>\n",
              "<table border=\"1\" class=\"dataframe\">\n",
              "  <thead>\n",
              "    <tr style=\"text-align: right;\">\n",
              "      <th></th>\n",
              "      <th>count</th>\n",
              "      <th>mean</th>\n",
              "      <th>std</th>\n",
              "      <th>min</th>\n",
              "      <th>25%</th>\n",
              "      <th>50%</th>\n",
              "      <th>75%</th>\n",
              "      <th>max</th>\n",
              "    </tr>\n",
              "  </thead>\n",
              "  <tbody>\n",
              "    <tr>\n",
              "      <th>ID</th>\n",
              "      <td>30000.0</td>\n",
              "      <td>15000.500000</td>\n",
              "      <td>8660.398374</td>\n",
              "      <td>1.0</td>\n",
              "      <td>7500.75</td>\n",
              "      <td>15000.5</td>\n",
              "      <td>22500.25</td>\n",
              "      <td>30000.0</td>\n",
              "    </tr>\n",
              "    <tr>\n",
              "      <th>LIMIT_BAL</th>\n",
              "      <td>30000.0</td>\n",
              "      <td>167484.322667</td>\n",
              "      <td>129747.661567</td>\n",
              "      <td>10000.0</td>\n",
              "      <td>50000.00</td>\n",
              "      <td>140000.0</td>\n",
              "      <td>240000.00</td>\n",
              "      <td>1000000.0</td>\n",
              "    </tr>\n",
              "    <tr>\n",
              "      <th>SEX</th>\n",
              "      <td>30000.0</td>\n",
              "      <td>1.603733</td>\n",
              "      <td>0.489129</td>\n",
              "      <td>1.0</td>\n",
              "      <td>1.00</td>\n",
              "      <td>2.0</td>\n",
              "      <td>2.00</td>\n",
              "      <td>2.0</td>\n",
              "    </tr>\n",
              "    <tr>\n",
              "      <th>EDUCATION</th>\n",
              "      <td>30000.0</td>\n",
              "      <td>1.853133</td>\n",
              "      <td>0.790349</td>\n",
              "      <td>0.0</td>\n",
              "      <td>1.00</td>\n",
              "      <td>2.0</td>\n",
              "      <td>2.00</td>\n",
              "      <td>6.0</td>\n",
              "    </tr>\n",
              "    <tr>\n",
              "      <th>MARRIAGE</th>\n",
              "      <td>30000.0</td>\n",
              "      <td>1.551867</td>\n",
              "      <td>0.521970</td>\n",
              "      <td>0.0</td>\n",
              "      <td>1.00</td>\n",
              "      <td>2.0</td>\n",
              "      <td>2.00</td>\n",
              "      <td>3.0</td>\n",
              "    </tr>\n",
              "    <tr>\n",
              "      <th>AGE</th>\n",
              "      <td>30000.0</td>\n",
              "      <td>35.485500</td>\n",
              "      <td>9.217904</td>\n",
              "      <td>21.0</td>\n",
              "      <td>28.00</td>\n",
              "      <td>34.0</td>\n",
              "      <td>41.00</td>\n",
              "      <td>79.0</td>\n",
              "    </tr>\n",
              "    <tr>\n",
              "      <th>PAY_0</th>\n",
              "      <td>30000.0</td>\n",
              "      <td>-0.016700</td>\n",
              "      <td>1.123802</td>\n",
              "      <td>-2.0</td>\n",
              "      <td>-1.00</td>\n",
              "      <td>0.0</td>\n",
              "      <td>0.00</td>\n",
              "      <td>8.0</td>\n",
              "    </tr>\n",
              "    <tr>\n",
              "      <th>PAY_2</th>\n",
              "      <td>30000.0</td>\n",
              "      <td>-0.133767</td>\n",
              "      <td>1.197186</td>\n",
              "      <td>-2.0</td>\n",
              "      <td>-1.00</td>\n",
              "      <td>0.0</td>\n",
              "      <td>0.00</td>\n",
              "      <td>8.0</td>\n",
              "    </tr>\n",
              "    <tr>\n",
              "      <th>PAY_3</th>\n",
              "      <td>30000.0</td>\n",
              "      <td>-0.166200</td>\n",
              "      <td>1.196868</td>\n",
              "      <td>-2.0</td>\n",
              "      <td>-1.00</td>\n",
              "      <td>0.0</td>\n",
              "      <td>0.00</td>\n",
              "      <td>8.0</td>\n",
              "    </tr>\n",
              "    <tr>\n",
              "      <th>PAY_4</th>\n",
              "      <td>30000.0</td>\n",
              "      <td>-0.220667</td>\n",
              "      <td>1.169139</td>\n",
              "      <td>-2.0</td>\n",
              "      <td>-1.00</td>\n",
              "      <td>0.0</td>\n",
              "      <td>0.00</td>\n",
              "      <td>8.0</td>\n",
              "    </tr>\n",
              "    <tr>\n",
              "      <th>PAY_5</th>\n",
              "      <td>30000.0</td>\n",
              "      <td>-0.266200</td>\n",
              "      <td>1.133187</td>\n",
              "      <td>-2.0</td>\n",
              "      <td>-1.00</td>\n",
              "      <td>0.0</td>\n",
              "      <td>0.00</td>\n",
              "      <td>8.0</td>\n",
              "    </tr>\n",
              "    <tr>\n",
              "      <th>PAY_6</th>\n",
              "      <td>30000.0</td>\n",
              "      <td>-0.291100</td>\n",
              "      <td>1.149988</td>\n",
              "      <td>-2.0</td>\n",
              "      <td>-1.00</td>\n",
              "      <td>0.0</td>\n",
              "      <td>0.00</td>\n",
              "      <td>8.0</td>\n",
              "    </tr>\n",
              "    <tr>\n",
              "      <th>BILL_AMT1</th>\n",
              "      <td>30000.0</td>\n",
              "      <td>51223.330900</td>\n",
              "      <td>73635.860576</td>\n",
              "      <td>-165580.0</td>\n",
              "      <td>3558.75</td>\n",
              "      <td>22381.5</td>\n",
              "      <td>67091.00</td>\n",
              "      <td>964511.0</td>\n",
              "    </tr>\n",
              "    <tr>\n",
              "      <th>BILL_AMT2</th>\n",
              "      <td>30000.0</td>\n",
              "      <td>49179.075167</td>\n",
              "      <td>71173.768783</td>\n",
              "      <td>-69777.0</td>\n",
              "      <td>2984.75</td>\n",
              "      <td>21200.0</td>\n",
              "      <td>64006.25</td>\n",
              "      <td>983931.0</td>\n",
              "    </tr>\n",
              "    <tr>\n",
              "      <th>BILL_AMT3</th>\n",
              "      <td>30000.0</td>\n",
              "      <td>47013.154800</td>\n",
              "      <td>69349.387427</td>\n",
              "      <td>-157264.0</td>\n",
              "      <td>2666.25</td>\n",
              "      <td>20088.5</td>\n",
              "      <td>60164.75</td>\n",
              "      <td>1664089.0</td>\n",
              "    </tr>\n",
              "    <tr>\n",
              "      <th>BILL_AMT4</th>\n",
              "      <td>30000.0</td>\n",
              "      <td>43262.948967</td>\n",
              "      <td>64332.856134</td>\n",
              "      <td>-170000.0</td>\n",
              "      <td>2326.75</td>\n",
              "      <td>19052.0</td>\n",
              "      <td>54506.00</td>\n",
              "      <td>891586.0</td>\n",
              "    </tr>\n",
              "    <tr>\n",
              "      <th>BILL_AMT5</th>\n",
              "      <td>30000.0</td>\n",
              "      <td>40311.400967</td>\n",
              "      <td>60797.155770</td>\n",
              "      <td>-81334.0</td>\n",
              "      <td>1763.00</td>\n",
              "      <td>18104.5</td>\n",
              "      <td>50190.50</td>\n",
              "      <td>927171.0</td>\n",
              "    </tr>\n",
              "    <tr>\n",
              "      <th>BILL_AMT6</th>\n",
              "      <td>30000.0</td>\n",
              "      <td>38871.760400</td>\n",
              "      <td>59554.107537</td>\n",
              "      <td>-339603.0</td>\n",
              "      <td>1256.00</td>\n",
              "      <td>17071.0</td>\n",
              "      <td>49198.25</td>\n",
              "      <td>961664.0</td>\n",
              "    </tr>\n",
              "    <tr>\n",
              "      <th>PAY_AMT1</th>\n",
              "      <td>30000.0</td>\n",
              "      <td>5663.580500</td>\n",
              "      <td>16563.280354</td>\n",
              "      <td>0.0</td>\n",
              "      <td>1000.00</td>\n",
              "      <td>2100.0</td>\n",
              "      <td>5006.00</td>\n",
              "      <td>873552.0</td>\n",
              "    </tr>\n",
              "    <tr>\n",
              "      <th>PAY_AMT2</th>\n",
              "      <td>30000.0</td>\n",
              "      <td>5921.163500</td>\n",
              "      <td>23040.870402</td>\n",
              "      <td>0.0</td>\n",
              "      <td>833.00</td>\n",
              "      <td>2009.0</td>\n",
              "      <td>5000.00</td>\n",
              "      <td>1684259.0</td>\n",
              "    </tr>\n",
              "    <tr>\n",
              "      <th>PAY_AMT3</th>\n",
              "      <td>30000.0</td>\n",
              "      <td>5225.681500</td>\n",
              "      <td>17606.961470</td>\n",
              "      <td>0.0</td>\n",
              "      <td>390.00</td>\n",
              "      <td>1800.0</td>\n",
              "      <td>4505.00</td>\n",
              "      <td>896040.0</td>\n",
              "    </tr>\n",
              "    <tr>\n",
              "      <th>PAY_AMT4</th>\n",
              "      <td>30000.0</td>\n",
              "      <td>4826.076867</td>\n",
              "      <td>15666.159744</td>\n",
              "      <td>0.0</td>\n",
              "      <td>296.00</td>\n",
              "      <td>1500.0</td>\n",
              "      <td>4013.25</td>\n",
              "      <td>621000.0</td>\n",
              "    </tr>\n",
              "    <tr>\n",
              "      <th>PAY_AMT5</th>\n",
              "      <td>30000.0</td>\n",
              "      <td>4799.387633</td>\n",
              "      <td>15278.305679</td>\n",
              "      <td>0.0</td>\n",
              "      <td>252.50</td>\n",
              "      <td>1500.0</td>\n",
              "      <td>4031.50</td>\n",
              "      <td>426529.0</td>\n",
              "    </tr>\n",
              "    <tr>\n",
              "      <th>PAY_AMT6</th>\n",
              "      <td>30000.0</td>\n",
              "      <td>5215.502567</td>\n",
              "      <td>17777.465775</td>\n",
              "      <td>0.0</td>\n",
              "      <td>117.75</td>\n",
              "      <td>1500.0</td>\n",
              "      <td>4000.00</td>\n",
              "      <td>528666.0</td>\n",
              "    </tr>\n",
              "    <tr>\n",
              "      <th>default.payment.next.month</th>\n",
              "      <td>30000.0</td>\n",
              "      <td>0.221200</td>\n",
              "      <td>0.415062</td>\n",
              "      <td>0.0</td>\n",
              "      <td>0.00</td>\n",
              "      <td>0.0</td>\n",
              "      <td>0.00</td>\n",
              "      <td>1.0</td>\n",
              "    </tr>\n",
              "  </tbody>\n",
              "</table>\n",
              "</div>\n",
              "      <button class=\"colab-df-convert\" onclick=\"convertToInteractive('df-5d34f42d-44da-473c-8313-9111f062647b')\"\n",
              "              title=\"Convert this dataframe to an interactive table.\"\n",
              "              style=\"display:none;\">\n",
              "        \n",
              "  <svg xmlns=\"http://www.w3.org/2000/svg\" height=\"24px\"viewBox=\"0 0 24 24\"\n",
              "       width=\"24px\">\n",
              "    <path d=\"M0 0h24v24H0V0z\" fill=\"none\"/>\n",
              "    <path d=\"M18.56 5.44l.94 2.06.94-2.06 2.06-.94-2.06-.94-.94-2.06-.94 2.06-2.06.94zm-11 1L8.5 8.5l.94-2.06 2.06-.94-2.06-.94L8.5 2.5l-.94 2.06-2.06.94zm10 10l.94 2.06.94-2.06 2.06-.94-2.06-.94-.94-2.06-.94 2.06-2.06.94z\"/><path d=\"M17.41 7.96l-1.37-1.37c-.4-.4-.92-.59-1.43-.59-.52 0-1.04.2-1.43.59L10.3 9.45l-7.72 7.72c-.78.78-.78 2.05 0 2.83L4 21.41c.39.39.9.59 1.41.59.51 0 1.02-.2 1.41-.59l7.78-7.78 2.81-2.81c.8-.78.8-2.07 0-2.86zM5.41 20L4 18.59l7.72-7.72 1.47 1.35L5.41 20z\"/>\n",
              "  </svg>\n",
              "      </button>\n",
              "      \n",
              "  <style>\n",
              "    .colab-df-container {\n",
              "      display:flex;\n",
              "      flex-wrap:wrap;\n",
              "      gap: 12px;\n",
              "    }\n",
              "\n",
              "    .colab-df-convert {\n",
              "      background-color: #E8F0FE;\n",
              "      border: none;\n",
              "      border-radius: 50%;\n",
              "      cursor: pointer;\n",
              "      display: none;\n",
              "      fill: #1967D2;\n",
              "      height: 32px;\n",
              "      padding: 0 0 0 0;\n",
              "      width: 32px;\n",
              "    }\n",
              "\n",
              "    .colab-df-convert:hover {\n",
              "      background-color: #E2EBFA;\n",
              "      box-shadow: 0px 1px 2px rgba(60, 64, 67, 0.3), 0px 1px 3px 1px rgba(60, 64, 67, 0.15);\n",
              "      fill: #174EA6;\n",
              "    }\n",
              "\n",
              "    [theme=dark] .colab-df-convert {\n",
              "      background-color: #3B4455;\n",
              "      fill: #D2E3FC;\n",
              "    }\n",
              "\n",
              "    [theme=dark] .colab-df-convert:hover {\n",
              "      background-color: #434B5C;\n",
              "      box-shadow: 0px 1px 3px 1px rgba(0, 0, 0, 0.15);\n",
              "      filter: drop-shadow(0px 1px 2px rgba(0, 0, 0, 0.3));\n",
              "      fill: #FFFFFF;\n",
              "    }\n",
              "  </style>\n",
              "\n",
              "      <script>\n",
              "        const buttonEl =\n",
              "          document.querySelector('#df-5d34f42d-44da-473c-8313-9111f062647b button.colab-df-convert');\n",
              "        buttonEl.style.display =\n",
              "          google.colab.kernel.accessAllowed ? 'block' : 'none';\n",
              "\n",
              "        async function convertToInteractive(key) {\n",
              "          const element = document.querySelector('#df-5d34f42d-44da-473c-8313-9111f062647b');\n",
              "          const dataTable =\n",
              "            await google.colab.kernel.invokeFunction('convertToInteractive',\n",
              "                                                     [key], {});\n",
              "          if (!dataTable) return;\n",
              "\n",
              "          const docLinkHtml = 'Like what you see? Visit the ' +\n",
              "            '<a target=\"_blank\" href=https://colab.research.google.com/notebooks/data_table.ipynb>data table notebook</a>'\n",
              "            + ' to learn more about interactive tables.';\n",
              "          element.innerHTML = '';\n",
              "          dataTable['output_type'] = 'display_data';\n",
              "          await google.colab.output.renderOutput(dataTable, element);\n",
              "          const docLink = document.createElement('div');\n",
              "          docLink.innerHTML = docLinkHtml;\n",
              "          element.appendChild(docLink);\n",
              "        }\n",
              "      </script>\n",
              "    </div>\n",
              "  </div>\n",
              "  "
            ]
          },
          "metadata": {},
          "execution_count": 6
        }
      ],
      "source": [
        "data.describe().T"
      ]
    },
    {
      "cell_type": "code",
      "execution_count": 7,
      "id": "399d37ab",
      "metadata": {
        "execution": {
          "iopub.execute_input": "2022-11-11T06:28:37.269573Z",
          "iopub.status.busy": "2022-11-11T06:28:37.268727Z",
          "iopub.status.idle": "2022-11-11T06:28:37.297930Z",
          "shell.execute_reply": "2022-11-11T06:28:37.297234Z"
        },
        "papermill": {
          "duration": 0.04834,
          "end_time": "2022-11-11T06:28:37.300224",
          "exception": false,
          "start_time": "2022-11-11T06:28:37.251884",
          "status": "completed"
        },
        "tags": [],
        "colab": {
          "base_uri": "https://localhost:8080/"
        },
        "id": "399d37ab",
        "outputId": "91b683f4-d14e-40a5-fd82-8ca74174557d"
      },
      "outputs": [
        {
          "output_type": "execute_result",
          "data": {
            "text/plain": [
              "False"
            ]
          },
          "metadata": {},
          "execution_count": 7
        }
      ],
      "source": [
        "data.duplicated().any()"
      ]
    },
    {
      "cell_type": "code",
      "execution_count": 8,
      "id": "428a47cd",
      "metadata": {
        "execution": {
          "iopub.execute_input": "2022-11-11T06:28:37.334859Z",
          "iopub.status.busy": "2022-11-11T06:28:37.334264Z",
          "iopub.status.idle": "2022-11-11T06:28:37.343327Z",
          "shell.execute_reply": "2022-11-11T06:28:37.342240Z"
        },
        "papermill": {
          "duration": 0.029039,
          "end_time": "2022-11-11T06:28:37.345545",
          "exception": false,
          "start_time": "2022-11-11T06:28:37.316506",
          "status": "completed"
        },
        "tags": [],
        "colab": {
          "base_uri": "https://localhost:8080/"
        },
        "id": "428a47cd",
        "outputId": "c8619369-d334-4024-de85-1d4670fc5701"
      },
      "outputs": [
        {
          "output_type": "execute_result",
          "data": {
            "text/plain": [
              "ID                            0\n",
              "LIMIT_BAL                     0\n",
              "SEX                           0\n",
              "EDUCATION                     0\n",
              "MARRIAGE                      0\n",
              "AGE                           0\n",
              "PAY_0                         0\n",
              "PAY_2                         0\n",
              "PAY_3                         0\n",
              "PAY_4                         0\n",
              "PAY_5                         0\n",
              "PAY_6                         0\n",
              "BILL_AMT1                     0\n",
              "BILL_AMT2                     0\n",
              "BILL_AMT3                     0\n",
              "BILL_AMT4                     0\n",
              "BILL_AMT5                     0\n",
              "BILL_AMT6                     0\n",
              "PAY_AMT1                      0\n",
              "PAY_AMT2                      0\n",
              "PAY_AMT3                      0\n",
              "PAY_AMT4                      0\n",
              "PAY_AMT5                      0\n",
              "PAY_AMT6                      0\n",
              "default.payment.next.month    0\n",
              "dtype: int64"
            ]
          },
          "metadata": {},
          "execution_count": 8
        }
      ],
      "source": [
        "data.isnull().sum()"
      ]
    },
    {
      "cell_type": "markdown",
      "id": "8bbad9da",
      "metadata": {
        "papermill": {
          "duration": 0.01574,
          "end_time": "2022-11-11T06:28:37.377265",
          "exception": false,
          "start_time": "2022-11-11T06:28:37.361525",
          "status": "completed"
        },
        "tags": [],
        "id": "8bbad9da"
      },
      "source": [
        "# Data Cleaning"
      ]
    },
    {
      "cell_type": "code",
      "execution_count": 9,
      "id": "0a81ceff",
      "metadata": {
        "execution": {
          "iopub.execute_input": "2022-11-11T06:28:37.411453Z",
          "iopub.status.busy": "2022-11-11T06:28:37.410365Z",
          "iopub.status.idle": "2022-11-11T06:28:37.415675Z",
          "shell.execute_reply": "2022-11-11T06:28:37.415033Z"
        },
        "papermill": {
          "duration": 0.02418,
          "end_time": "2022-11-11T06:28:37.417332",
          "exception": false,
          "start_time": "2022-11-11T06:28:37.393152",
          "status": "completed"
        },
        "tags": [],
        "id": "0a81ceff"
      },
      "outputs": [],
      "source": [
        "data.rename(columns={'default.payment.next.month':'default','PAY_0':'PAY_1'},inplace=True)"
      ]
    },
    {
      "cell_type": "code",
      "execution_count": 10,
      "id": "dd149c30",
      "metadata": {
        "execution": {
          "iopub.execute_input": "2022-11-11T06:28:37.451545Z",
          "iopub.status.busy": "2022-11-11T06:28:37.450998Z",
          "iopub.status.idle": "2022-11-11T06:28:37.458445Z",
          "shell.execute_reply": "2022-11-11T06:28:37.457263Z"
        },
        "papermill": {
          "duration": 0.026897,
          "end_time": "2022-11-11T06:28:37.460400",
          "exception": false,
          "start_time": "2022-11-11T06:28:37.433503",
          "status": "completed"
        },
        "tags": [],
        "colab": {
          "base_uri": "https://localhost:8080/"
        },
        "id": "dd149c30",
        "outputId": "de86f1ae-4f47-44f9-b833-85499ac83787"
      },
      "outputs": [
        {
          "output_type": "execute_result",
          "data": {
            "text/plain": [
              "2    18112\n",
              "1    11888\n",
              "Name: SEX, dtype: int64"
            ]
          },
          "metadata": {},
          "execution_count": 10
        }
      ],
      "source": [
        "data['SEX'].value_counts()"
      ]
    },
    {
      "cell_type": "markdown",
      "id": "42c7eb98",
      "metadata": {
        "papermill": {
          "duration": 0.016607,
          "end_time": "2022-11-11T06:28:37.493540",
          "exception": false,
          "start_time": "2022-11-11T06:28:37.476933",
          "status": "completed"
        },
        "tags": [],
        "id": "42c7eb98"
      },
      "source": [
        "**SEX: (1=male, 2=female)**"
      ]
    },
    {
      "cell_type": "code",
      "execution_count": 11,
      "id": "593700d2",
      "metadata": {
        "execution": {
          "iopub.execute_input": "2022-11-11T06:28:37.527841Z",
          "iopub.status.busy": "2022-11-11T06:28:37.527454Z",
          "iopub.status.idle": "2022-11-11T06:28:37.538253Z",
          "shell.execute_reply": "2022-11-11T06:28:37.537512Z"
        },
        "papermill": {
          "duration": 0.030157,
          "end_time": "2022-11-11T06:28:37.539974",
          "exception": false,
          "start_time": "2022-11-11T06:28:37.509817",
          "status": "completed"
        },
        "tags": [],
        "colab": {
          "base_uri": "https://localhost:8080/"
        },
        "id": "593700d2",
        "outputId": "884537d4-f7e8-41ae-cb2c-bb549e344637"
      },
      "outputs": [
        {
          "output_type": "execute_result",
          "data": {
            "text/plain": [
              "2    14030\n",
              "1    10585\n",
              "3     4917\n",
              "4      468\n",
              "Name: EDUCATION, dtype: int64"
            ]
          },
          "metadata": {},
          "execution_count": 11
        }
      ],
      "source": [
        "fil = (data['EDUCATION'] == 5) | (data['EDUCATION'] == 6) | (data['EDUCATION'] == 0)\n",
        "data.loc[fil, 'EDUCATION'] = 4\n",
        "data['EDUCATION'].value_counts()"
      ]
    },
    {
      "cell_type": "markdown",
      "id": "e7d73f11",
      "metadata": {
        "papermill": {
          "duration": 0.015841,
          "end_time": "2022-11-11T06:28:37.572132",
          "exception": false,
          "start_time": "2022-11-11T06:28:37.556291",
          "status": "completed"
        },
        "tags": [],
        "id": "e7d73f11"
      },
      "source": [
        "**EDUCATION: (1=graduate school, 2=university, 3=high school, 4=others)**"
      ]
    },
    {
      "cell_type": "code",
      "execution_count": 12,
      "id": "9fbde0d2",
      "metadata": {
        "execution": {
          "iopub.execute_input": "2022-11-11T06:28:37.606420Z",
          "iopub.status.busy": "2022-11-11T06:28:37.605602Z",
          "iopub.status.idle": "2022-11-11T06:28:37.613758Z",
          "shell.execute_reply": "2022-11-11T06:28:37.613110Z"
        },
        "papermill": {
          "duration": 0.027144,
          "end_time": "2022-11-11T06:28:37.615446",
          "exception": false,
          "start_time": "2022-11-11T06:28:37.588302",
          "status": "completed"
        },
        "tags": [],
        "colab": {
          "base_uri": "https://localhost:8080/"
        },
        "id": "9fbde0d2",
        "outputId": "6070dab5-e196-4784-c686-1c611b12cb55"
      },
      "outputs": [
        {
          "output_type": "execute_result",
          "data": {
            "text/plain": [
              "2    15964\n",
              "1    13659\n",
              "3      377\n",
              "Name: MARRIAGE, dtype: int64"
            ]
          },
          "metadata": {},
          "execution_count": 12
        }
      ],
      "source": [
        "data.loc[data['MARRIAGE']==0, 'MARRIAGE'] = 3\n",
        "data['MARRIAGE'].value_counts()"
      ]
    },
    {
      "cell_type": "markdown",
      "id": "d45234f6",
      "metadata": {
        "papermill": {
          "duration": 0.016366,
          "end_time": "2022-11-11T06:28:37.648025",
          "exception": false,
          "start_time": "2022-11-11T06:28:37.631659",
          "status": "completed"
        },
        "tags": [],
        "id": "d45234f6"
      },
      "source": [
        "**MARRIAGE: Marital status (1=married, 2=single, 3=others)**"
      ]
    },
    {
      "cell_type": "code",
      "execution_count": 13,
      "id": "59856314",
      "metadata": {
        "execution": {
          "iopub.execute_input": "2022-11-11T06:28:37.683477Z",
          "iopub.status.busy": "2022-11-11T06:28:37.682811Z",
          "iopub.status.idle": "2022-11-11T06:28:37.693857Z",
          "shell.execute_reply": "2022-11-11T06:28:37.693118Z"
        },
        "papermill": {
          "duration": 0.031314,
          "end_time": "2022-11-11T06:28:37.696023",
          "exception": false,
          "start_time": "2022-11-11T06:28:37.664709",
          "status": "completed"
        },
        "tags": [],
        "id": "59856314"
      },
      "outputs": [],
      "source": [
        "for i in range(1,7):\n",
        "    col='PAY_'+str(i)\n",
        "    fil = (data[col] == -2) | (data[col] == -1) \n",
        "    data.loc[fil, col] = 0"
      ]
    },
    {
      "cell_type": "markdown",
      "id": "a8f65bce",
      "metadata": {
        "papermill": {
          "duration": 0.016317,
          "end_time": "2022-11-11T06:28:37.729223",
          "exception": false,
          "start_time": "2022-11-11T06:28:37.712906",
          "status": "completed"
        },
        "tags": [],
        "id": "a8f65bce"
      },
      "source": [
        "**REPAYMENT STATUS: (0=pay duly, 1=payment delay for one month, 2=payment delay for two months, … 8=payment delay for eight months, 9=payment delay for nine months and above)**"
      ]
    },
    {
      "cell_type": "markdown",
      "id": "e4b856d5",
      "metadata": {
        "papermill": {
          "duration": 0.016259,
          "end_time": "2022-11-11T06:28:37.762053",
          "exception": false,
          "start_time": "2022-11-11T06:28:37.745794",
          "status": "completed"
        },
        "tags": [],
        "id": "e4b856d5"
      },
      "source": [
        "# Exploratary Data Analysis"
      ]
    },
    {
      "cell_type": "code",
      "execution_count": 14,
      "id": "3591c709",
      "metadata": {
        "execution": {
          "iopub.execute_input": "2022-11-11T06:28:37.796803Z",
          "iopub.status.busy": "2022-11-11T06:28:37.796200Z",
          "iopub.status.idle": "2022-11-11T06:28:37.800887Z",
          "shell.execute_reply": "2022-11-11T06:28:37.800276Z"
        },
        "papermill": {
          "duration": 0.024229,
          "end_time": "2022-11-11T06:28:37.802602",
          "exception": false,
          "start_time": "2022-11-11T06:28:37.778373",
          "status": "completed"
        },
        "tags": [],
        "id": "3591c709"
      },
      "outputs": [],
      "source": [
        "plt.style.use('ggplot')\n",
        "plt.rcParams['figure.figsize']=(12,8)"
      ]
    },
    {
      "cell_type": "code",
      "execution_count": 15,
      "id": "89bcaecf",
      "metadata": {
        "execution": {
          "iopub.execute_input": "2022-11-11T06:28:37.836952Z",
          "iopub.status.busy": "2022-11-11T06:28:37.836609Z",
          "iopub.status.idle": "2022-11-11T06:28:37.969100Z",
          "shell.execute_reply": "2022-11-11T06:28:37.968116Z"
        },
        "papermill": {
          "duration": 0.152385,
          "end_time": "2022-11-11T06:28:37.971478",
          "exception": false,
          "start_time": "2022-11-11T06:28:37.819093",
          "status": "completed"
        },
        "tags": [],
        "colab": {
          "base_uri": "https://localhost:8080/",
          "height": 466
        },
        "id": "89bcaecf",
        "outputId": "96cfdaf3-0cdd-4921-8fa3-d5d205e96a21"
      },
      "outputs": [
        {
          "output_type": "display_data",
          "data": {
            "text/plain": [
              "<Figure size 864x576 with 1 Axes>"
            ],
            "image/png": "[encoded data removed]"
          },
          "metadata": {}
        }
      ],
      "source": [
        "inter=data['default'].value_counts()\n",
        "plt.pie(inter,labels=['No','Yes'],autopct='%0.1f%%',radius=1);"
      ]
    },
    {
      "cell_type": "markdown",
      "id": "9e3be577",
      "metadata": {
        "papermill": {
          "duration": 0.017001,
          "end_time": "2022-11-11T06:28:38.005562",
          "exception": false,
          "start_time": "2022-11-11T06:28:37.988561",
          "status": "completed"
        },
        "tags": [],
        "id": "9e3be577"
      },
      "source": [
        "**There is imbalance in class distribution**"
      ]
    },
    {
      "cell_type": "code",
      "execution_count": 16,
      "id": "4255f531",
      "metadata": {
        "execution": {
          "iopub.execute_input": "2022-11-11T06:28:38.042221Z",
          "iopub.status.busy": "2022-11-11T06:28:38.041778Z",
          "iopub.status.idle": "2022-11-11T06:28:38.047602Z",
          "shell.execute_reply": "2022-11-11T06:28:38.046546Z"
        },
        "papermill": {
          "duration": 0.02653,
          "end_time": "2022-11-11T06:28:38.049422",
          "exception": false,
          "start_time": "2022-11-11T06:28:38.022892",
          "status": "completed"
        },
        "tags": [],
        "id": "4255f531"
      },
      "outputs": [],
      "source": [
        "numeric_col=['LIMIT_BAL', 'AGE', 'BILL_AMT1', 'BILL_AMT2','BILL_AMT3', 'BILL_AMT4',\n",
        "             'BILL_AMT5', 'BILL_AMT6', 'PAY_AMT1','PAY_AMT2', 'PAY_AMT3', 'PAY_AMT4',\n",
        "             'PAY_AMT5', 'PAY_AMT6']"
      ]
    },
    {
      "cell_type": "code",
      "execution_count": 17,
      "id": "83f8ebb3",
      "metadata": {
        "execution": {
          "iopub.execute_input": "2022-11-11T06:28:38.084890Z",
          "iopub.status.busy": "2022-11-11T06:28:38.084338Z",
          "iopub.status.idle": "2022-11-11T06:28:39.779268Z",
          "shell.execute_reply": "2022-11-11T06:28:39.778322Z"
        },
        "papermill": {
          "duration": 1.714872,
          "end_time": "2022-11-11T06:28:39.781224",
          "exception": false,
          "start_time": "2022-11-11T06:28:38.066352",
          "status": "completed"
        },
        "tags": [],
        "colab": {
          "base_uri": "https://localhost:8080/",
          "height": 585
        },
        "id": "83f8ebb3",
        "outputId": "9a8f1e5c-c88b-42ae-f7ea-cf98580d7358"
      },
      "outputs": [
        {
          "output_type": "display_data",
          "data": {
            "text/plain": [
              "<Figure size 864x576 with 16 Axes>"
            ],
            "image/png": "[encoded data removed]"
          },
          "metadata": {}
        }
      ],
      "source": [
        "data[numeric_col].hist();\n",
        "plt.tight_layout()"
      ]
    },
    {
      "cell_type": "markdown",
      "id": "77e168d7",
      "metadata": {
        "papermill": {
          "duration": 0.017378,
          "end_time": "2022-11-11T06:28:39.816423",
          "exception": false,
          "start_time": "2022-11-11T06:28:39.799045",
          "status": "completed"
        },
        "tags": [],
        "id": "77e168d7"
      },
      "source": [
        "**The numrical features have non-gaussian distribution therefore we will use powertransform to make the features gaussian like.**"
      ]
    },
    {
      "cell_type": "code",
      "execution_count": 18,
      "id": "9e2f0c99",
      "metadata": {
        "execution": {
          "iopub.execute_input": "2022-11-11T06:28:39.852825Z",
          "iopub.status.busy": "2022-11-11T06:28:39.852271Z",
          "iopub.status.idle": "2022-11-11T06:28:39.856854Z",
          "shell.execute_reply": "2022-11-11T06:28:39.856137Z"
        },
        "papermill": {
          "duration": 0.025327,
          "end_time": "2022-11-11T06:28:39.859036",
          "exception": false,
          "start_time": "2022-11-11T06:28:39.833709",
          "status": "completed"
        },
        "tags": [],
        "id": "9e2f0c99"
      },
      "outputs": [],
      "source": [
        "def num_plot(col):\n",
        "    \n",
        "    plt.subplot(1,2,1)\n",
        "    sns.histplot(x=col,hue=data['default']);\n",
        "    \n",
        "    plt.subplot(1,2,2)\n",
        "    sns.boxplot(y=col,x=data['default']);"
      ]
    },
    {
      "cell_type": "code",
      "execution_count": 19,
      "id": "5e01c6ee",
      "metadata": {
        "execution": {
          "iopub.execute_input": "2022-11-11T06:28:39.896814Z",
          "iopub.status.busy": "2022-11-11T06:28:39.896175Z",
          "iopub.status.idle": "2022-11-11T06:28:40.540252Z",
          "shell.execute_reply": "2022-11-11T06:28:40.539200Z"
        },
        "papermill": {
          "duration": 0.665959,
          "end_time": "2022-11-11T06:28:40.542756",
          "exception": false,
          "start_time": "2022-11-11T06:28:39.876797",
          "status": "completed"
        },
        "tags": [],
        "colab": {
          "base_uri": "https://localhost:8080/",
          "height": 511
        },
        "id": "5e01c6ee",
        "outputId": "e5a789fd-84cf-43d3-85db-d9ec8209873f"
      },
      "outputs": [
        {
          "output_type": "display_data",
          "data": {
            "text/plain": [
              "<Figure size 864x576 with 2 Axes>"
            ],
            "image/png": "[encoded data removed]"
          },
          "metadata": {}
        }
      ],
      "source": [
        "num_plot(data['LIMIT_BAL'])"
      ]
    },
    {
      "cell_type": "code",
      "execution_count": 20,
      "id": "9c8361d5",
      "metadata": {
        "execution": {
          "iopub.execute_input": "2022-11-11T06:28:40.582435Z",
          "iopub.status.busy": "2022-11-11T06:28:40.580204Z",
          "iopub.status.idle": "2022-11-11T06:28:41.177286Z",
          "shell.execute_reply": "2022-11-11T06:28:41.176401Z"
        },
        "papermill": {
          "duration": 0.618726,
          "end_time": "2022-11-11T06:28:41.179640",
          "exception": false,
          "start_time": "2022-11-11T06:28:40.560914",
          "status": "completed"
        },
        "tags": [],
        "colab": {
          "base_uri": "https://localhost:8080/",
          "height": 500
        },
        "id": "9c8361d5",
        "outputId": "47e19f7b-ca9f-4bfc-cbad-09d8b54f5703"
      },
      "outputs": [
        {
          "output_type": "display_data",
          "data": {
            "text/plain": [
              "<Figure size 864x576 with 2 Axes>"
            ],
            "image/png": "[encoded data removed]"
          },
          "metadata": {}
        }
      ],
      "source": [
        "num_plot(data['AGE'])"
      ]
    },
    {
      "cell_type": "markdown",
      "id": "bd9f1246",
      "metadata": {
        "papermill": {
          "duration": 0.01768,
          "end_time": "2022-11-11T06:28:41.215499",
          "exception": false,
          "start_time": "2022-11-11T06:28:41.197819",
          "status": "completed"
        },
        "tags": [],
        "id": "bd9f1246"
      },
      "source": [
        "**Age can be bined in bin size of 5 as can be seen from distribution plot**"
      ]
    },
    {
      "cell_type": "code",
      "execution_count": 21,
      "id": "fcfb168c",
      "metadata": {
        "execution": {
          "iopub.execute_input": "2022-11-11T06:28:41.252980Z",
          "iopub.status.busy": "2022-11-11T06:28:41.252571Z",
          "iopub.status.idle": "2022-11-11T06:28:42.874546Z",
          "shell.execute_reply": "2022-11-11T06:28:42.873279Z"
        },
        "papermill": {
          "duration": 1.643906,
          "end_time": "2022-11-11T06:28:42.877372",
          "exception": false,
          "start_time": "2022-11-11T06:28:41.233466",
          "status": "completed"
        },
        "tags": [],
        "colab": {
          "base_uri": "https://localhost:8080/",
          "height": 511
        },
        "id": "fcfb168c",
        "outputId": "f9ba9ae8-b5c2-472c-9f23-7323fa5a1dd0"
      },
      "outputs": [
        {
          "output_type": "display_data",
          "data": {
            "text/plain": [
              "<Figure size 864x576 with 2 Axes>"
            ],
            "image/png": "[encoded data removed]"
          },
          "metadata": {}
        }
      ],
      "source": [
        "num_plot(data['BILL_AMT1'])"
      ]
    },
    {
      "cell_type": "markdown",
      "id": "f6078ee1",
      "metadata": {
        "papermill": {
          "duration": 0.017588,
          "end_time": "2022-11-11T06:28:42.913108",
          "exception": false,
          "start_time": "2022-11-11T06:28:42.895520",
          "status": "completed"
        },
        "tags": [],
        "id": "f6078ee1"
      },
      "source": [
        "**Amount of bill statement follows similar pattern for others months**"
      ]
    },
    {
      "cell_type": "code",
      "execution_count": 22,
      "id": "e7d0b48d",
      "metadata": {
        "execution": {
          "iopub.execute_input": "2022-11-11T06:28:42.951884Z",
          "iopub.status.busy": "2022-11-11T06:28:42.951519Z",
          "iopub.status.idle": "2022-11-11T06:28:43.805341Z",
          "shell.execute_reply": "2022-11-11T06:28:43.804433Z"
        },
        "papermill": {
          "duration": 0.876465,
          "end_time": "2022-11-11T06:28:43.807270",
          "exception": false,
          "start_time": "2022-11-11T06:28:42.930805",
          "status": "completed"
        },
        "tags": [],
        "colab": {
          "base_uri": "https://localhost:8080/",
          "height": 500
        },
        "id": "e7d0b48d",
        "outputId": "257c3d76-fa24-4bbf-b9e2-a0043c996d09"
      },
      "outputs": [
        {
          "output_type": "display_data",
          "data": {
            "text/plain": [
              "<Figure size 864x576 with 2 Axes>"
            ],
            "image/png": "[encoded data removed]"
          },
          "metadata": {}
        }
      ],
      "source": [
        "num_plot(np.log1p(data['PAY_AMT1']))"
      ]
    },
    {
      "cell_type": "markdown",
      "id": "84fa2fe7",
      "metadata": {
        "papermill": {
          "duration": 0.01915,
          "end_time": "2022-11-11T06:28:43.845618",
          "exception": false,
          "start_time": "2022-11-11T06:28:43.826468",
          "status": "completed"
        },
        "tags": [],
        "id": "84fa2fe7"
      },
      "source": [
        "**Amount of previous payment follows similar pattern for other months**"
      ]
    },
    {
      "cell_type": "markdown",
      "id": "dcb9ac02",
      "metadata": {
        "papermill": {
          "duration": 0.019,
          "end_time": "2022-11-11T06:28:43.884246",
          "exception": false,
          "start_time": "2022-11-11T06:28:43.865246",
          "status": "completed"
        },
        "tags": [],
        "id": "dcb9ac02"
      },
      "source": [
        "**Numerical variable have non-gaussian distribution, therefore we will use power transformer to transform them to gaussian like.**"
      ]
    },
    {
      "cell_type": "code",
      "execution_count": 23,
      "id": "f2275154",
      "metadata": {
        "execution": {
          "iopub.execute_input": "2022-11-11T06:28:43.925460Z",
          "iopub.status.busy": "2022-11-11T06:28:43.924207Z",
          "iopub.status.idle": "2022-11-11T06:28:44.738326Z",
          "shell.execute_reply": "2022-11-11T06:28:44.737037Z"
        },
        "papermill": {
          "duration": 0.83668,
          "end_time": "2022-11-11T06:28:44.740322",
          "exception": false,
          "start_time": "2022-11-11T06:28:43.903642",
          "status": "completed"
        },
        "tags": [],
        "colab": {
          "base_uri": "https://localhost:8080/",
          "height": 526
        },
        "id": "f2275154",
        "outputId": "9ce65195-eb79-4b4e-d8e5-9674b098bcd9"
      },
      "outputs": [
        {
          "output_type": "display_data",
          "data": {
            "text/plain": [
              "<Figure size 864x576 with 1 Axes>"
            ],
            "image/png": "[encoded data removed]"
          },
          "metadata": {}
        }
      ],
      "source": [
        "sns.heatmap(data[numeric_col].corr(),cbar=False,annot=True);"
      ]
    },
    {
      "cell_type": "code",
      "execution_count": 24,
      "id": "9a5e0b9b",
      "metadata": {
        "execution": {
          "iopub.execute_input": "2022-11-11T06:28:44.783118Z",
          "iopub.status.busy": "2022-11-11T06:28:44.782650Z",
          "iopub.status.idle": "2022-11-11T06:28:44.788113Z",
          "shell.execute_reply": "2022-11-11T06:28:44.787001Z"
        },
        "papermill": {
          "duration": 0.029262,
          "end_time": "2022-11-11T06:28:44.789996",
          "exception": false,
          "start_time": "2022-11-11T06:28:44.760734",
          "status": "completed"
        },
        "tags": [],
        "id": "9a5e0b9b"
      },
      "outputs": [],
      "source": [
        "categorical_col=['SEX', 'EDUCATION', 'MARRIAGE', 'PAY_1',\n",
        "                 'PAY_2', 'PAY_3', 'PAY_4', 'PAY_5', 'PAY_6']"
      ]
    },
    {
      "cell_type": "code",
      "execution_count": 25,
      "id": "e57fcd41",
      "metadata": {
        "execution": {
          "iopub.execute_input": "2022-11-11T06:28:44.834739Z",
          "iopub.status.busy": "2022-11-11T06:28:44.834160Z",
          "iopub.status.idle": "2022-11-11T06:28:44.838904Z",
          "shell.execute_reply": "2022-11-11T06:28:44.838309Z"
        },
        "papermill": {
          "duration": 0.029919,
          "end_time": "2022-11-11T06:28:44.840630",
          "exception": false,
          "start_time": "2022-11-11T06:28:44.810711",
          "status": "completed"
        },
        "tags": [],
        "id": "e57fcd41"
      },
      "outputs": [],
      "source": [
        "def cat_plot(col):\n",
        "    \n",
        "    inter=data.groupby(col)['default'].mean()\n",
        "    \n",
        "    plt.subplot(1,2,1)\n",
        "    sns.countplot(x=col,data=data,order=inter.index);\n",
        "    \n",
        "    plt.subplot(1,2,2)\n",
        "    plt.pie(inter,labels=inter.index,autopct='%0.1f%%',radius=1.2);"
      ]
    },
    {
      "cell_type": "code",
      "execution_count": 26,
      "id": "832aee7e",
      "metadata": {
        "execution": {
          "iopub.execute_input": "2022-11-11T06:28:44.883250Z",
          "iopub.status.busy": "2022-11-11T06:28:44.882667Z",
          "iopub.status.idle": "2022-11-11T06:28:45.078023Z",
          "shell.execute_reply": "2022-11-11T06:28:45.077224Z"
        },
        "papermill": {
          "duration": 0.219255,
          "end_time": "2022-11-11T06:28:45.079797",
          "exception": false,
          "start_time": "2022-11-11T06:28:44.860542",
          "status": "completed"
        },
        "tags": [],
        "colab": {
          "base_uri": "https://localhost:8080/",
          "height": 500
        },
        "id": "832aee7e",
        "outputId": "9e02cb8d-ac9d-4206-eacb-ae0b58a79384"
      },
      "outputs": [
        {
          "output_type": "display_data",
          "data": {
            "text/plain": [
              "<Figure size 864x576 with 2 Axes>"
            ],
            "image/png": "[encoded data removed]"
          },
          "metadata": {}
        }
      ],
      "source": [
        "cat_plot('SEX')"
      ]
    },
    {
      "cell_type": "markdown",
      "id": "871e2227",
      "metadata": {
        "papermill": {
          "duration": 0.020077,
          "end_time": "2022-11-11T06:28:45.121053",
          "exception": false,
          "start_time": "2022-11-11T06:28:45.100976",
          "status": "completed"
        },
        "tags": [],
        "id": "871e2227"
      },
      "source": [
        "**Males have a higher chance on defaulting on credit card bills then female**"
      ]
    },
    {
      "cell_type": "code",
      "execution_count": 27,
      "id": "7c6fa1ce",
      "metadata": {
        "execution": {
          "iopub.execute_input": "2022-11-11T06:28:45.164201Z",
          "iopub.status.busy": "2022-11-11T06:28:45.163562Z",
          "iopub.status.idle": "2022-11-11T06:28:45.377526Z",
          "shell.execute_reply": "2022-11-11T06:28:45.376642Z"
        },
        "papermill": {
          "duration": 0.238369,
          "end_time": "2022-11-11T06:28:45.379509",
          "exception": false,
          "start_time": "2022-11-11T06:28:45.141140",
          "status": "completed"
        },
        "tags": [],
        "colab": {
          "base_uri": "https://localhost:8080/",
          "height": 500
        },
        "id": "7c6fa1ce",
        "outputId": "a0519488-d92d-4f0d-e339-9099e1130758"
      },
      "outputs": [
        {
          "output_type": "display_data",
          "data": {
            "text/plain": [
              "<Figure size 864x576 with 2 Axes>"
            ],
            "image/png": "[encoded data removed]"
          },
          "metadata": {}
        }
      ],
      "source": [
        "cat_plot('MARRIAGE')"
      ]
    },
    {
      "cell_type": "markdown",
      "id": "7dc1c7b2",
      "metadata": {
        "papermill": {
          "duration": 0.020018,
          "end_time": "2022-11-11T06:28:45.420366",
          "exception": false,
          "start_time": "2022-11-11T06:28:45.400348",
          "status": "completed"
        },
        "tags": [],
        "id": "7dc1c7b2"
      },
      "source": [
        "**Single person have lower chances of defaulting.**"
      ]
    },
    {
      "cell_type": "code",
      "execution_count": 28,
      "id": "f729691b",
      "metadata": {
        "execution": {
          "iopub.execute_input": "2022-11-11T06:28:45.462511Z",
          "iopub.status.busy": "2022-11-11T06:28:45.462146Z",
          "iopub.status.idle": "2022-11-11T06:28:45.681397Z",
          "shell.execute_reply": "2022-11-11T06:28:45.680405Z"
        },
        "papermill": {
          "duration": 0.242634,
          "end_time": "2022-11-11T06:28:45.683239",
          "exception": false,
          "start_time": "2022-11-11T06:28:45.440605",
          "status": "completed"
        },
        "tags": [],
        "colab": {
          "base_uri": "https://localhost:8080/",
          "height": 500
        },
        "id": "f729691b",
        "outputId": "700cace5-fe71-4b34-d8c8-a309b3d6956e"
      },
      "outputs": [
        {
          "output_type": "display_data",
          "data": {
            "text/plain": [
              "<Figure size 864x576 with 2 Axes>"
            ],
            "image/png": "[encoded data removed]"
          },
          "metadata": {}
        }
      ],
      "source": [
        "cat_plot('EDUCATION')"
      ]
    },
    {
      "cell_type": "code",
      "execution_count": 29,
      "id": "15e934b4",
      "metadata": {
        "execution": {
          "iopub.execute_input": "2022-11-11T06:28:45.727012Z",
          "iopub.status.busy": "2022-11-11T06:28:45.726627Z",
          "iopub.status.idle": "2022-11-11T06:28:45.992489Z",
          "shell.execute_reply": "2022-11-11T06:28:45.991475Z"
        },
        "papermill": {
          "duration": 0.289815,
          "end_time": "2022-11-11T06:28:45.994429",
          "exception": false,
          "start_time": "2022-11-11T06:28:45.704614",
          "status": "completed"
        },
        "tags": [],
        "colab": {
          "base_uri": "https://localhost:8080/",
          "height": 500
        },
        "id": "15e934b4",
        "outputId": "fd660d45-7f61-45f4-90ac-b5d30706bc3c"
      },
      "outputs": [
        {
          "output_type": "display_data",
          "data": {
            "text/plain": [
              "<Figure size 864x576 with 2 Axes>"
            ],
            "image/png": "[encoded data removed]"
          },
          "metadata": {}
        }
      ],
      "source": [
        "cat_plot('PAY_1')"
      ]
    },
    {
      "cell_type": "markdown",
      "id": "db00bfd8",
      "metadata": {
        "papermill": {
          "duration": 0.021153,
          "end_time": "2022-11-11T06:28:46.037246",
          "exception": false,
          "start_time": "2022-11-11T06:28:46.016093",
          "status": "completed"
        },
        "tags": [],
        "id": "db00bfd8"
      },
      "source": [
        "**As the repayment status get delayed by 1 month, the chances of defaulting increases significantly.**"
      ]
    },
    {
      "cell_type": "markdown",
      "id": "9279f6f8",
      "metadata": {
        "papermill": {
          "duration": 0.021335,
          "end_time": "2022-11-11T06:28:46.080944",
          "exception": false,
          "start_time": "2022-11-11T06:28:46.059609",
          "status": "completed"
        },
        "tags": [],
        "id": "9279f6f8"
      },
      "source": [
        "# Data Preprocessing"
      ]
    },
    {
      "cell_type": "markdown",
      "id": "e879ad3a",
      "metadata": {
        "papermill": {
          "duration": 0.021333,
          "end_time": "2022-11-11T06:28:46.123831",
          "exception": false,
          "start_time": "2022-11-11T06:28:46.102498",
          "status": "completed"
        },
        "tags": [],
        "id": "e879ad3a"
      },
      "source": [
        "**Converting age into categorical variable**"
      ]
    },
    {
      "cell_type": "code",
      "execution_count": 30,
      "id": "a3bf71c0",
      "metadata": {
        "execution": {
          "iopub.execute_input": "2022-11-11T06:28:46.168421Z",
          "iopub.status.busy": "2022-11-11T06:28:46.168009Z",
          "iopub.status.idle": "2022-11-11T06:28:46.175806Z",
          "shell.execute_reply": "2022-11-11T06:28:46.174965Z"
        },
        "papermill": {
          "duration": 0.032885,
          "end_time": "2022-11-11T06:28:46.178031",
          "exception": false,
          "start_time": "2022-11-11T06:28:46.145146",
          "status": "completed"
        },
        "tags": [],
        "id": "a3bf71c0"
      },
      "outputs": [],
      "source": [
        "data['AGE']=pd.cut(data['AGE'],bins=range(20,85,5),labels=range(len(range(20,85,5))-1))"
      ]
    },
    {
      "cell_type": "code",
      "execution_count": 31,
      "id": "6d67ce34",
      "metadata": {
        "execution": {
          "iopub.execute_input": "2022-11-11T06:28:46.222229Z",
          "iopub.status.busy": "2022-11-11T06:28:46.221878Z",
          "iopub.status.idle": "2022-11-11T06:28:46.244674Z",
          "shell.execute_reply": "2022-11-11T06:28:46.243579Z"
        },
        "papermill": {
          "duration": 0.04719,
          "end_time": "2022-11-11T06:28:46.246804",
          "exception": false,
          "start_time": "2022-11-11T06:28:46.199614",
          "status": "completed"
        },
        "tags": [],
        "id": "6d67ce34"
      },
      "outputs": [],
      "source": [
        "X=data.drop(['ID','default'],axis=1)\n",
        "y=data['default']\n",
        "\n",
        "X_train, X_test, y_train, y_test = train_test_split(X, y, test_size=0.2, stratify=y, random_state=42)"
      ]
    },
    {
      "cell_type": "code",
      "execution_count": 32,
      "id": "d175ddbe",
      "metadata": {
        "execution": {
          "iopub.execute_input": "2022-11-11T06:28:46.292655Z",
          "iopub.status.busy": "2022-11-11T06:28:46.291642Z",
          "iopub.status.idle": "2022-11-11T06:28:46.297397Z",
          "shell.execute_reply": "2022-11-11T06:28:46.296507Z"
        },
        "papermill": {
          "duration": 0.030583,
          "end_time": "2022-11-11T06:28:46.299123",
          "exception": false,
          "start_time": "2022-11-11T06:28:46.268540",
          "status": "completed"
        },
        "tags": [],
        "id": "d175ddbe"
      },
      "outputs": [],
      "source": [
        "numeric_col=['LIMIT_BAL', 'BILL_AMT1', 'BILL_AMT2','BILL_AMT3', 'BILL_AMT4',\n",
        "             'BILL_AMT5', 'BILL_AMT6', 'PAY_AMT1','PAY_AMT2', 'PAY_AMT3', 'PAY_AMT4',\n",
        "             'PAY_AMT5', 'PAY_AMT6']\n",
        "\n",
        "categorical_col=['SEX','AGE', 'EDUCATION', 'MARRIAGE', 'PAY_1',\n",
        "                 'PAY_2', 'PAY_3', 'PAY_4', 'PAY_5', 'PAY_6']"
      ]
    },
    {
      "cell_type": "code",
      "execution_count": 33,
      "id": "2dd7014e",
      "metadata": {
        "execution": {
          "iopub.execute_input": "2022-11-11T06:28:46.344661Z",
          "iopub.status.busy": "2022-11-11T06:28:46.343189Z",
          "iopub.status.idle": "2022-11-11T06:28:46.854020Z",
          "shell.execute_reply": "2022-11-11T06:28:46.853122Z"
        },
        "papermill": {
          "duration": 0.535673,
          "end_time": "2022-11-11T06:28:46.856466",
          "exception": false,
          "start_time": "2022-11-11T06:28:46.320793",
          "status": "completed"
        },
        "tags": [],
        "id": "2dd7014e"
      },
      "outputs": [],
      "source": [
        "transformer=ColumnTransformer([('scaled',PowerTransformer(),numeric_col)],remainder='passthrough')\n",
        "transformer.fit(X_train)\n",
        "\n",
        "columns=numeric_col+categorical_col\n",
        "X_train=pd.DataFrame(transformer.transform(X_train),columns=columns)\n",
        "X_test=pd.DataFrame(transformer.transform(X_test),columns=columns)"
      ]
    },
    {
      "cell_type": "markdown",
      "id": "3dcfef2a",
      "metadata": {
        "papermill": {
          "duration": 0.022126,
          "end_time": "2022-11-11T06:28:46.902102",
          "exception": false,
          "start_time": "2022-11-11T06:28:46.879976",
          "status": "completed"
        },
        "tags": [],
        "id": "3dcfef2a"
      },
      "source": [
        "# Evaluation Metric"
      ]
    },
    {
      "cell_type": "markdown",
      "id": "53287d7d",
      "metadata": {
        "papermill": {
          "duration": 0.021339,
          "end_time": "2022-11-11T06:28:46.945023",
          "exception": false,
          "start_time": "2022-11-11T06:28:46.923684",
          "status": "completed"
        },
        "tags": [],
        "id": "53287d7d"
      },
      "source": [
        "**Identifying the defaulter is main task and therefore positive class is more important then negative class. Due to which we will area under the precision recall curve to determine the best model.**"
      ]
    },
    {
      "cell_type": "code",
      "execution_count": 34,
      "id": "ca75cc29",
      "metadata": {
        "execution": {
          "iopub.execute_input": "2022-11-11T06:28:46.989948Z",
          "iopub.status.busy": "2022-11-11T06:28:46.989572Z",
          "iopub.status.idle": "2022-11-11T06:28:46.995243Z",
          "shell.execute_reply": "2022-11-11T06:28:46.993843Z"
        },
        "papermill": {
          "duration": 0.030508,
          "end_time": "2022-11-11T06:28:46.997188",
          "exception": false,
          "start_time": "2022-11-11T06:28:46.966680",
          "status": "completed"
        },
        "tags": [],
        "id": "ca75cc29"
      },
      "outputs": [],
      "source": [
        "def score(y_true,y_probs):\n",
        "    precision,recall,_=precision_recall_curve(y_true,y_probs)\n",
        "    return auc(recall,precision)\n",
        "\n",
        "metric=make_scorer(score,needs_proba=True)"
      ]
    },
    {
      "cell_type": "markdown",
      "id": "69476af0",
      "metadata": {
        "papermill": {
          "duration": 0.020707,
          "end_time": "2022-11-11T06:28:47.039950",
          "exception": false,
          "start_time": "2022-11-11T06:28:47.019243",
          "status": "completed"
        },
        "tags": [],
        "id": "69476af0"
      },
      "source": [
        "# Algorithm Spot Checking"
      ]
    },
    {
      "cell_type": "code",
      "execution_count": 35,
      "id": "2a9639cb",
      "metadata": {
        "execution": {
          "iopub.execute_input": "2022-11-11T06:28:47.083899Z",
          "iopub.status.busy": "2022-11-11T06:28:47.083003Z",
          "iopub.status.idle": "2022-11-11T06:28:47.088691Z",
          "shell.execute_reply": "2022-11-11T06:28:47.088102Z"
        },
        "papermill": {
          "duration": 0.029506,
          "end_time": "2022-11-11T06:28:47.090282",
          "exception": false,
          "start_time": "2022-11-11T06:28:47.060776",
          "status": "completed"
        },
        "tags": [],
        "id": "2a9639cb"
      },
      "outputs": [],
      "source": [
        "def get_models():\n",
        "    \n",
        "    models,names=[],[]\n",
        "    \n",
        "    models.append(LogisticRegression())\n",
        "    names.append('lr')\n",
        "    \n",
        "    models.append(KNeighborsClassifier())\n",
        "    names.append('knn')\n",
        "    \n",
        "    models.append(GaussianNB())\n",
        "    names.append('gnb')\n",
        "    \n",
        "    models.append(RandomForestClassifier())\n",
        "    names.append('rfc')\n",
        "    \n",
        "    models.append(XGBClassifier())\n",
        "    names.append('xgb')\n",
        "    \n",
        "    models.append(LGBMClassifier())\n",
        "    names.append('lgb')\n",
        "    \n",
        "    return models,names"
      ]
    },
    {
      "cell_type": "code",
      "execution_count": 36,
      "id": "fd3f7d73",
      "metadata": {
        "execution": {
          "iopub.execute_input": "2022-11-11T06:28:47.134267Z",
          "iopub.status.busy": "2022-11-11T06:28:47.133592Z",
          "iopub.status.idle": "2022-11-11T06:28:47.139036Z",
          "shell.execute_reply": "2022-11-11T06:28:47.138428Z"
        },
        "papermill": {
          "duration": 0.029363,
          "end_time": "2022-11-11T06:28:47.140682",
          "exception": false,
          "start_time": "2022-11-11T06:28:47.111319",
          "status": "completed"
        },
        "tags": [],
        "id": "fd3f7d73"
      },
      "outputs": [],
      "source": [
        "def evaluate(X,y):\n",
        "    \n",
        "    models,names=get_models()\n",
        "    results=[]\n",
        "    \n",
        "    for i in range(len(models)):\n",
        "        cv=RepeatedStratifiedKFold(n_splits=5, n_repeats=5, random_state=1)\n",
        "        scores=cross_val_score(models[i],X,y,scoring=metric,cv=cv)\n",
        "        results.append(scores)\n",
        "        \n",
        "    plt.boxplot(results,labels=names,showmeans=True);"
      ]
    },
    {
      "cell_type": "code",
      "execution_count": 37,
      "id": "d8ed7665",
      "metadata": {
        "execution": {
          "iopub.execute_input": "2022-11-11T06:28:47.185348Z",
          "iopub.status.busy": "2022-11-11T06:28:47.184742Z",
          "iopub.status.idle": "2022-11-11T06:32:41.977927Z",
          "shell.execute_reply": "2022-11-11T06:32:41.976937Z"
        },
        "papermill": {
          "duration": 234.839103,
          "end_time": "2022-11-11T06:32:42.001216",
          "exception": false,
          "start_time": "2022-11-11T06:28:47.162113",
          "status": "completed"
        },
        "tags": [],
        "colab": {
          "base_uri": "https://localhost:8080/",
          "height": 483
        },
        "id": "d8ed7665",
        "outputId": "8f069bad-ecad-461e-97f4-7aac02742557"
      },
      "outputs": [
        {
          "output_type": "display_data",
          "data": {
            "text/plain": [
              "<Figure size 864x576 with 1 Axes>"
            ],
            "image/png": "[encoded data removed]"
          },
          "metadata": {}
        }
      ],
      "source": [
        "evaluate(X_train,y_train)"
      ]
    },
    {
      "cell_type": "markdown",
      "id": "770b127f",
      "metadata": {
        "papermill": {
          "duration": 0.021495,
          "end_time": "2022-11-11T06:32:42.044864",
          "exception": false,
          "start_time": "2022-11-11T06:32:42.023369",
          "status": "completed"
        },
        "tags": [],
        "id": "770b127f"
      },
      "source": [
        "**LightGBM performs best among other algorithms.**"
      ]
    },
    {
      "cell_type": "markdown",
      "id": "4cf95338",
      "metadata": {
        "papermill": {
          "duration": 0.020917,
          "end_time": "2022-11-11T06:32:42.087675",
          "exception": false,
          "start_time": "2022-11-11T06:32:42.066758",
          "status": "completed"
        },
        "tags": [],
        "id": "4cf95338"
      },
      "source": [
        "# Correcting Data Imbalance"
      ]
    },
    {
      "cell_type": "markdown",
      "id": "1f30ccfb",
      "metadata": {
        "papermill": {
          "duration": 0.021311,
          "end_time": "2022-11-11T06:32:42.130708",
          "exception": false,
          "start_time": "2022-11-11T06:32:42.109397",
          "status": "completed"
        },
        "tags": [],
        "id": "1f30ccfb"
      },
      "source": [
        "**We will use undersampling technique for sampling data.Undersampling will remove majority class example from border area,therefore favouring prediction in minority class which is also the important.**"
      ]
    },
    {
      "cell_type": "code",
      "execution_count": 38,
      "id": "64dad81e",
      "metadata": {
        "execution": {
          "iopub.execute_input": "2022-11-11T06:32:42.176116Z",
          "iopub.status.busy": "2022-11-11T06:32:42.175722Z",
          "iopub.status.idle": "2022-11-11T06:35:23.439961Z",
          "shell.execute_reply": "2022-11-11T06:35:23.438793Z"
        },
        "papermill": {
          "duration": 161.311429,
          "end_time": "2022-11-11T06:35:23.464094",
          "exception": false,
          "start_time": "2022-11-11T06:32:42.152665",
          "status": "completed"
        },
        "tags": [],
        "colab": {
          "base_uri": "https://localhost:8080/",
          "height": 483
        },
        "id": "64dad81e",
        "outputId": "b5a61cd8-9e8d-4e2b-ee3b-0308d238a072"
      },
      "outputs": [
        {
          "output_type": "display_data",
          "data": {
            "text/plain": [
              "<Figure size 864x576 with 1 Axes>"
            ],
            "image/png": "[encoded data removed]"
          },
          "metadata": {}
        }
      ],
      "source": [
        "resample=EditedNearestNeighbours()\n",
        "X_rs,y_rs=resample.fit_resample(X_train,y_train)\n",
        "\n",
        "evaluate(X_rs,y_rs)"
      ]
    },
    {
      "cell_type": "markdown",
      "id": "bc2b85b8",
      "metadata": {
        "papermill": {
          "duration": 0.022375,
          "end_time": "2022-11-11T06:35:23.509113",
          "exception": false,
          "start_time": "2022-11-11T06:35:23.486738",
          "status": "completed"
        },
        "tags": [],
        "id": "bc2b85b8"
      },
      "source": [
        "**Data sampling has increased models performance substanstially.Therefore we will use it**"
      ]
    },
    {
      "cell_type": "code",
      "execution_count": 39,
      "id": "b8cf15c6",
      "metadata": {
        "execution": {
          "iopub.execute_input": "2022-11-11T06:35:23.555965Z",
          "iopub.status.busy": "2022-11-11T06:35:23.554865Z",
          "iopub.status.idle": "2022-11-11T06:35:23.559610Z",
          "shell.execute_reply": "2022-11-11T06:35:23.558785Z"
        },
        "papermill": {
          "duration": 0.029982,
          "end_time": "2022-11-11T06:35:23.561418",
          "exception": false,
          "start_time": "2022-11-11T06:35:23.531436",
          "status": "completed"
        },
        "tags": [],
        "id": "b8cf15c6"
      },
      "outputs": [],
      "source": [
        "X_train,y_train=X_rs,y_rs"
      ]
    },
    {
      "cell_type": "markdown",
      "id": "1b4291c4",
      "metadata": {
        "papermill": {
          "duration": 0.021914,
          "end_time": "2022-11-11T06:35:23.605379",
          "exception": false,
          "start_time": "2022-11-11T06:35:23.583465",
          "status": "completed"
        },
        "tags": [],
        "id": "1b4291c4"
      },
      "source": [
        "**We will use Random Forest Classifier as our final model**"
      ]
    },
    {
      "cell_type": "markdown",
      "id": "8e61a23d",
      "metadata": {
        "papermill": {
          "duration": 0.022438,
          "end_time": "2022-11-11T06:35:23.650250",
          "exception": false,
          "start_time": "2022-11-11T06:35:23.627812",
          "status": "completed"
        },
        "tags": [],
        "id": "8e61a23d"
      },
      "source": [
        "# Feature Selection"
      ]
    },
    {
      "cell_type": "code",
      "execution_count": 40,
      "id": "203108f2",
      "metadata": {
        "execution": {
          "iopub.execute_input": "2022-11-11T06:35:23.696839Z",
          "iopub.status.busy": "2022-11-11T06:35:23.696466Z",
          "iopub.status.idle": "2022-11-11T06:35:28.433819Z",
          "shell.execute_reply": "2022-11-11T06:35:28.433121Z"
        },
        "papermill": {
          "duration": 4.76268,
          "end_time": "2022-11-11T06:35:28.435782",
          "exception": false,
          "start_time": "2022-11-11T06:35:23.673102",
          "status": "completed"
        },
        "tags": [],
        "colab": {
          "base_uri": "https://localhost:8080/",
          "height": 483
        },
        "id": "203108f2",
        "outputId": "81f134f3-2654-4093-8167-8236b581d61f"
      },
      "outputs": [
        {
          "output_type": "display_data",
          "data": {
            "text/plain": [
              "<Figure size 864x576 with 1 Axes>"
            ],
            "image/png": "[encoded data removed]"
          },
          "metadata": {}
        }
      ],
      "source": [
        "model=RandomForestClassifier()\n",
        "model.fit(X_rs,y_rs)\n",
        "\n",
        "fi=pd.Series(model.feature_importances_,index=X_train.columns).sort_values(ascending=False)\n",
        "fi.plot(kind='barh');"
      ]
    },
    {
      "cell_type": "code",
      "execution_count": 41,
      "id": "4e45a6ca",
      "metadata": {
        "execution": {
          "iopub.execute_input": "2022-11-11T06:35:28.483043Z",
          "iopub.status.busy": "2022-11-11T06:35:28.482037Z",
          "iopub.status.idle": "2022-11-11T06:35:28.487422Z",
          "shell.execute_reply": "2022-11-11T06:35:28.486348Z"
        },
        "papermill": {
          "duration": 0.031538,
          "end_time": "2022-11-11T06:35:28.489722",
          "exception": false,
          "start_time": "2022-11-11T06:35:28.458184",
          "status": "completed"
        },
        "tags": [],
        "id": "4e45a6ca"
      },
      "outputs": [],
      "source": [
        "col=fi.index\n",
        "col=col.to_list()"
      ]
    },
    {
      "cell_type": "code",
      "execution_count": 42,
      "id": "1259cb59",
      "metadata": {
        "execution": {
          "iopub.execute_input": "2022-11-11T06:35:28.538424Z",
          "iopub.status.busy": "2022-11-11T06:35:28.537863Z",
          "iopub.status.idle": "2022-11-11T06:36:35.479346Z",
          "shell.execute_reply": "2022-11-11T06:36:35.478180Z"
        },
        "papermill": {
          "duration": 66.968241,
          "end_time": "2022-11-11T06:36:35.481783",
          "exception": false,
          "start_time": "2022-11-11T06:35:28.513542",
          "status": "completed"
        },
        "tags": [],
        "id": "1259cb59"
      },
      "outputs": [],
      "source": [
        "results=[]\n",
        "\n",
        "for i in range(8,23):\n",
        "    model=RandomForestClassifier()\n",
        "    model.fit(X_train[col[:i]],y_train)\n",
        "    y_probs=model.predict_proba(X_test[col[:i]])\n",
        "    precision,recall,_=precision_recall_curve(y_test,y_probs[:,1])\n",
        "    results.append(auc(recall,precision))"
      ]
    },
    {
      "cell_type": "code",
      "execution_count": 43,
      "id": "d4640821",
      "metadata": {
        "execution": {
          "iopub.execute_input": "2022-11-11T06:36:35.528907Z",
          "iopub.status.busy": "2022-11-11T06:36:35.528511Z",
          "iopub.status.idle": "2022-11-11T06:36:35.708619Z",
          "shell.execute_reply": "2022-11-11T06:36:35.707448Z"
        },
        "papermill": {
          "duration": 0.20629,
          "end_time": "2022-11-11T06:36:35.710867",
          "exception": false,
          "start_time": "2022-11-11T06:36:35.504577",
          "status": "completed"
        },
        "tags": [],
        "colab": {
          "base_uri": "https://localhost:8080/",
          "height": 483
        },
        "id": "d4640821",
        "outputId": "a2ecc871-3845-4fcb-dc08-beb6b97510a4"
      },
      "outputs": [
        {
          "output_type": "display_data",
          "data": {
            "text/plain": [
              "<Figure size 864x576 with 1 Axes>"
            ],
            "image/png": "[encoded data removed]"
          },
          "metadata": {}
        }
      ],
      "source": [
        "plt.plot([i for i in range(8,23)],results);"
      ]
    },
    {
      "cell_type": "markdown",
      "id": "a9baf54f",
      "metadata": {
        "papermill": {
          "duration": 0.022929,
          "end_time": "2022-11-11T06:36:35.756777",
          "exception": false,
          "start_time": "2022-11-11T06:36:35.733848",
          "status": "completed"
        },
        "tags": [],
        "id": "a9baf54f"
      },
      "source": [
        "**We will select 10 features for the modelling**"
      ]
    },
    {
      "cell_type": "code",
      "execution_count": 44,
      "id": "65254ded",
      "metadata": {
        "execution": {
          "iopub.execute_input": "2022-11-11T06:36:35.805490Z",
          "iopub.status.busy": "2022-11-11T06:36:35.805138Z",
          "iopub.status.idle": "2022-11-11T06:36:35.811931Z",
          "shell.execute_reply": "2022-11-11T06:36:35.810949Z"
        },
        "papermill": {
          "duration": 0.033419,
          "end_time": "2022-11-11T06:36:35.813760",
          "exception": false,
          "start_time": "2022-11-11T06:36:35.780341",
          "status": "completed"
        },
        "tags": [],
        "id": "65254ded"
      },
      "outputs": [],
      "source": [
        "#fs=features_selected\n",
        "fs=['LIMIT_BAL','PAY_1','PAY_2','PAY_3','BILL_AMT1','BILL_AMT2','BILL_AMT3','PAY_AMT1','PAY_AMT2','PAY_AMT3']\n",
        "\n",
        "X_train=X_train[fs]\n",
        "X_test=X_test[fs]"
      ]
    },
    {
      "cell_type": "markdown",
      "id": "022cdf38",
      "metadata": {
        "papermill": {
          "duration": 0.023491,
          "end_time": "2022-11-11T06:36:35.864353",
          "exception": false,
          "start_time": "2022-11-11T06:36:35.840862",
          "status": "completed"
        },
        "tags": [],
        "id": "022cdf38"
      },
      "source": [
        "# Hyperparameter Optimization"
      ]
    },
    {
      "cell_type": "code",
      "execution_count": 45,
      "id": "b24c7cc3",
      "metadata": {
        "execution": {
          "iopub.execute_input": "2022-11-11T06:36:35.911175Z",
          "iopub.status.busy": "2022-11-11T06:36:35.910810Z",
          "iopub.status.idle": "2022-11-11T06:40:20.714008Z",
          "shell.execute_reply": "2022-11-11T06:40:20.713080Z"
        },
        "papermill": {
          "duration": 224.849609,
          "end_time": "2022-11-11T06:40:20.736790",
          "exception": false,
          "start_time": "2022-11-11T06:36:35.887181",
          "status": "completed"
        },
        "tags": [],
        "colab": {
          "base_uri": "https://localhost:8080/"
        },
        "id": "b24c7cc3",
        "outputId": "824abea4-0e9e-405f-f03d-2627edb03aa3"
      },
      "outputs": [
        {
          "output_type": "execute_result",
          "data": {
            "text/plain": [
              "GridSearchCV(cv=StratifiedKFold(n_splits=5, random_state=None, shuffle=False),\n",
              "             estimator=RandomForestClassifier(), n_jobs=-1,\n",
              "             param_grid={'max_depth': range(3, 8),\n",
              "                         'min_samples_split': range(2, 10, 2),\n",
              "                         'n_estimators': range(100, 150, 10)},\n",
              "             scoring=make_scorer(score, needs_proba=True))"
            ]
          },
          "metadata": {},
          "execution_count": 45
        }
      ],
      "source": [
        "param_grid={'n_estimators':range(100,150,10),\n",
        "            'max_depth':range(3,8),\n",
        "            'min_samples_split':range(2,10,2)}\n",
        "\n",
        "cv=StratifiedKFold(n_splits=5)\n",
        "model=GridSearchCV(RandomForestClassifier(),param_grid,scoring=metric,n_jobs=-1,cv=cv)\n",
        "model.fit(X_train,y_train)"
      ]
    },
    {
      "cell_type": "code",
      "execution_count": 46,
      "id": "0df7dd19",
      "metadata": {
        "execution": {
          "iopub.execute_input": "2022-11-11T06:40:20.786437Z",
          "iopub.status.busy": "2022-11-11T06:40:20.785163Z",
          "iopub.status.idle": "2022-11-11T06:40:20.791771Z",
          "shell.execute_reply": "2022-11-11T06:40:20.790809Z"
        },
        "papermill": {
          "duration": 0.034106,
          "end_time": "2022-11-11T06:40:20.794191",
          "exception": false,
          "start_time": "2022-11-11T06:40:20.760085",
          "status": "completed"
        },
        "tags": [],
        "colab": {
          "base_uri": "https://localhost:8080/"
        },
        "id": "0df7dd19",
        "outputId": "4f227289-d3e5-4647-eed1-456628866056"
      },
      "outputs": [
        {
          "output_type": "execute_result",
          "data": {
            "text/plain": [
              "{'max_depth': 7, 'min_samples_split': 8, 'n_estimators': 110}"
            ]
          },
          "metadata": {},
          "execution_count": 46
        }
      ],
      "source": [
        "model.best_params_"
      ]
    },
    {
      "cell_type": "code",
      "execution_count": 47,
      "id": "f3ddc2fa",
      "metadata": {
        "execution": {
          "iopub.execute_input": "2022-11-11T06:40:20.844511Z",
          "iopub.status.busy": "2022-11-11T06:40:20.843298Z",
          "iopub.status.idle": "2022-11-11T06:40:20.850388Z",
          "shell.execute_reply": "2022-11-11T06:40:20.849445Z"
        },
        "papermill": {
          "duration": 0.033984,
          "end_time": "2022-11-11T06:40:20.852204",
          "exception": false,
          "start_time": "2022-11-11T06:40:20.818220",
          "status": "completed"
        },
        "tags": [],
        "colab": {
          "base_uri": "https://localhost:8080/"
        },
        "id": "f3ddc2fa",
        "outputId": "b9c0a14c-48cd-41a9-e8b0-2048371baf2a"
      },
      "outputs": [
        {
          "output_type": "execute_result",
          "data": {
            "text/plain": [
              "0.7933934169779271"
            ]
          },
          "metadata": {},
          "execution_count": 47
        }
      ],
      "source": [
        "model.best_score_"
      ]
    },
    {
      "cell_type": "markdown",
      "id": "b3e23ceb",
      "metadata": {
        "papermill": {
          "duration": 0.023302,
          "end_time": "2022-11-11T06:40:20.898981",
          "exception": false,
          "start_time": "2022-11-11T06:40:20.875679",
          "status": "completed"
        },
        "tags": [],
        "id": "b3e23ceb"
      },
      "source": [
        "# Final Model"
      ]
    },
    {
      "cell_type": "code",
      "execution_count": 48,
      "id": "e325991d",
      "metadata": {
        "execution": {
          "iopub.execute_input": "2022-11-11T06:40:20.949301Z",
          "iopub.status.busy": "2022-11-11T06:40:20.948638Z",
          "iopub.status.idle": "2022-11-11T06:40:21.032750Z",
          "shell.execute_reply": "2022-11-11T06:40:21.031822Z"
        },
        "papermill": {
          "duration": 0.113207,
          "end_time": "2022-11-11T06:40:21.035607",
          "exception": false,
          "start_time": "2022-11-11T06:40:20.922400",
          "status": "completed"
        },
        "tags": [],
        "id": "e325991d"
      },
      "outputs": [],
      "source": [
        "model=model.best_estimator_\n",
        "y_probs=model.predict_proba(X_test)"
      ]
    },
    {
      "cell_type": "code",
      "execution_count": 49,
      "id": "dd14cca9",
      "metadata": {
        "execution": {
          "iopub.execute_input": "2022-11-11T06:40:21.084242Z",
          "iopub.status.busy": "2022-11-11T06:40:21.083857Z",
          "iopub.status.idle": "2022-11-11T06:40:21.091262Z",
          "shell.execute_reply": "2022-11-11T06:40:21.090294Z"
        },
        "papermill": {
          "duration": 0.03405,
          "end_time": "2022-11-11T06:40:21.093201",
          "exception": false,
          "start_time": "2022-11-11T06:40:21.059151",
          "status": "completed"
        },
        "tags": [],
        "colab": {
          "base_uri": "https://localhost:8080/"
        },
        "id": "dd14cca9",
        "outputId": "7edff5cc-5b0e-4b28-d7d2-181db902ef6e"
      },
      "outputs": [
        {
          "output_type": "stream",
          "name": "stdout",
          "text": [
            "Area under precision_recall_curve: 0.5281617680983686\n"
          ]
        }
      ],
      "source": [
        "precision,recall,thresholds=precision_recall_curve(y_test,y_probs[:,1])\n",
        "print(f'Area under precision_recall_curve: {auc(recall,precision)}')"
      ]
    },
    {
      "cell_type": "code",
      "execution_count": 50,
      "id": "9eb70a39",
      "metadata": {
        "execution": {
          "iopub.execute_input": "2022-11-11T06:40:21.141930Z",
          "iopub.status.busy": "2022-11-11T06:40:21.141177Z",
          "iopub.status.idle": "2022-11-11T06:40:21.337925Z",
          "shell.execute_reply": "2022-11-11T06:40:21.336867Z"
        },
        "papermill": {
          "duration": 0.223138,
          "end_time": "2022-11-11T06:40:21.339904",
          "exception": false,
          "start_time": "2022-11-11T06:40:21.116766",
          "status": "completed"
        },
        "tags": [],
        "colab": {
          "base_uri": "https://localhost:8080/",
          "height": 518
        },
        "id": "9eb70a39",
        "outputId": "362cdf04-b1f1-438c-9290-f72164a92516"
      },
      "outputs": [
        {
          "output_type": "execute_result",
          "data": {
            "text/plain": [
              "Text(0, 0.5, 'Precision')"
            ]
          },
          "metadata": {},
          "execution_count": 50
        },
        {
          "output_type": "display_data",
          "data": {
            "text/plain": [
              "<Figure size 864x576 with 1 Axes>"
            ],
            "image/png": "[encoded data removed]"
          },
          "metadata": {}
        }
      ],
      "source": [
        "plt.plot(recall, precision, marker='.', label='RandomForestClassifier');\n",
        "\n",
        "plt.xlabel('Recall')\n",
        "plt.ylabel('Precision')"
      ]
    },
    {
      "cell_type": "markdown",
      "id": "8bb1bf50",
      "metadata": {
        "papermill": {
          "duration": 0.023893,
          "end_time": "2022-11-11T06:40:21.387767",
          "exception": false,
          "start_time": "2022-11-11T06:40:21.363874",
          "status": "completed"
        },
        "tags": [],
        "id": "8bb1bf50"
      },
      "source": [
        "# Threshold Moving"
      ]
    },
    {
      "cell_type": "code",
      "execution_count": 51,
      "id": "01a4b782",
      "metadata": {
        "execution": {
          "iopub.execute_input": "2022-11-11T06:40:21.437800Z",
          "iopub.status.busy": "2022-11-11T06:40:21.436985Z",
          "iopub.status.idle": "2022-11-11T06:40:21.442299Z",
          "shell.execute_reply": "2022-11-11T06:40:21.441531Z"
        },
        "papermill": {
          "duration": 0.033516,
          "end_time": "2022-11-11T06:40:21.445210",
          "exception": false,
          "start_time": "2022-11-11T06:40:21.411694",
          "status": "completed"
        },
        "tags": [],
        "colab": {
          "base_uri": "https://localhost:8080/"
        },
        "id": "01a4b782",
        "outputId": "fc089222-6324-4790-f8e5-820989e85697"
      },
      "outputs": [
        {
          "output_type": "stream",
          "name": "stdout",
          "text": [
            "Best Threshold=0.189983, f1_score=0.633\n"
          ]
        }
      ],
      "source": [
        "f1_score = (5*precision*recall)/(4*precision+recall)\n",
        "ix = np.argmax(f1_score)\n",
        "thresh=thresholds[ix]\n",
        "\n",
        "print('Best Threshold=%f, f1_score=%.3f' % (thresholds[ix], f1_score[ix]))"
      ]
    },
    {
      "cell_type": "code",
      "execution_count": 52,
      "id": "57a9c94c",
      "metadata": {
        "execution": {
          "iopub.execute_input": "2022-11-11T06:40:21.496955Z",
          "iopub.status.busy": "2022-11-11T06:40:21.496610Z",
          "iopub.status.idle": "2022-11-11T06:40:21.721964Z",
          "shell.execute_reply": "2022-11-11T06:40:21.721011Z"
        },
        "papermill": {
          "duration": 0.25404,
          "end_time": "2022-11-11T06:40:21.724269",
          "exception": false,
          "start_time": "2022-11-11T06:40:21.470229",
          "status": "completed"
        },
        "tags": [],
        "colab": {
          "base_uri": "https://localhost:8080/",
          "height": 518
        },
        "id": "57a9c94c",
        "outputId": "e41a4afa-876d-486b-d56d-80e9a278c774"
      },
      "outputs": [
        {
          "output_type": "execute_result",
          "data": {
            "text/plain": [
              "<matplotlib.legend.Legend at 0x7f478f2c0e20>"
            ]
          },
          "metadata": {},
          "execution_count": 52
        },
        {
          "output_type": "display_data",
          "data": {
            "text/plain": [
              "<Figure size 864x576 with 1 Axes>"
            ],
            "image/png": "[encoded data removed]"
          },
          "metadata": {}
        }
      ],
      "source": [
        "plt.plot(recall, precision, marker='.', label='RFC');\n",
        "plt.plot(recall[ix],precision[ix],marker='o', markersize=12,color='black',label='Optimal Threshold');\n",
        "\n",
        "plt.xlabel('Recall')\n",
        "plt.ylabel('Precision')\n",
        "\n",
        "plt.legend()"
      ]
    },
    {
      "cell_type": "code",
      "execution_count": 53,
      "id": "9da522d2",
      "metadata": {
        "execution": {
          "iopub.execute_input": "2022-11-11T06:40:21.776097Z",
          "iopub.status.busy": "2022-11-11T06:40:21.775521Z",
          "iopub.status.idle": "2022-11-11T06:40:21.781004Z",
          "shell.execute_reply": "2022-11-11T06:40:21.779805Z"
        },
        "papermill": {
          "duration": 0.034061,
          "end_time": "2022-11-11T06:40:21.783185",
          "exception": false,
          "start_time": "2022-11-11T06:40:21.749124",
          "status": "completed"
        },
        "tags": [],
        "id": "9da522d2"
      },
      "outputs": [],
      "source": [
        "y_pred=(y_probs[:,1]>=thresh)"
      ]
    },
    {
      "cell_type": "code",
      "execution_count": 54,
      "id": "86927f21",
      "metadata": {
        "execution": {
          "iopub.execute_input": "2022-11-11T06:40:21.834339Z",
          "iopub.status.busy": "2022-11-11T06:40:21.833969Z",
          "iopub.status.idle": "2022-11-11T06:40:21.848972Z",
          "shell.execute_reply": "2022-11-11T06:40:21.848073Z"
        },
        "papermill": {
          "duration": 0.043665,
          "end_time": "2022-11-11T06:40:21.851618",
          "exception": false,
          "start_time": "2022-11-11T06:40:21.807953",
          "status": "completed"
        },
        "tags": [],
        "colab": {
          "base_uri": "https://localhost:8080/"
        },
        "id": "86927f21",
        "outputId": "710ccb57-36ea-48f4-eb77-3e02f6a82dd3"
      },
      "outputs": [
        {
          "output_type": "stream",
          "name": "stdout",
          "text": [
            "Classification_report: \n",
            "\n",
            "               precision    recall  f1-score   support\n",
            "\n",
            "           0       0.92      0.49      0.64      4673\n",
            "           1       0.32      0.84      0.46      1327\n",
            "\n",
            "    accuracy                           0.56      6000\n",
            "   macro avg       0.62      0.66      0.55      6000\n",
            "weighted avg       0.78      0.56      0.60      6000\n",
            "\n"
          ]
        }
      ],
      "source": [
        "print(f'Classification_report: \\n\\n {classification_report(y_test,y_pred)}')"
      ]
    },
    {
      "cell_type": "code",
      "execution_count": 55,
      "id": "973b9c87",
      "metadata": {
        "execution": {
          "iopub.execute_input": "2022-11-11T06:40:21.904886Z",
          "iopub.status.busy": "2022-11-11T06:40:21.903727Z",
          "iopub.status.idle": "2022-11-11T06:40:21.910565Z",
          "shell.execute_reply": "2022-11-11T06:40:21.909584Z"
        },
        "papermill": {
          "duration": 0.035071,
          "end_time": "2022-11-11T06:40:21.912840",
          "exception": false,
          "start_time": "2022-11-11T06:40:21.877769",
          "status": "completed"
        },
        "tags": [],
        "id": "973b9c87"
      },
      "outputs": [],
      "source": [
        "val=['Non-Defaulter','Defaulted']\n",
        "data=pd.DataFrame(confusion_matrix(y_test,y_pred),columns=val,index=val)\n"
      ]
    },
    {
      "cell_type": "code",
      "execution_count": 56,
      "id": "1d20f586",
      "metadata": {
        "execution": {
          "iopub.execute_input": "2022-11-11T06:40:21.964226Z",
          "iopub.status.busy": "2022-11-11T06:40:21.963850Z",
          "iopub.status.idle": "2022-11-11T06:40:22.088976Z",
          "shell.execute_reply": "2022-11-11T06:40:22.087916Z"
        },
        "papermill": {
          "duration": 0.153812,
          "end_time": "2022-11-11T06:40:22.091178",
          "exception": false,
          "start_time": "2022-11-11T06:40:21.937366",
          "status": "completed"
        },
        "tags": [],
        "colab": {
          "base_uri": "https://localhost:8080/",
          "height": 518
        },
        "id": "1d20f586",
        "outputId": "65037888-5cf7-466e-9e62-4f6f2ee137e9"
      },
      "outputs": [
        {
          "output_type": "execute_result",
          "data": {
            "text/plain": [
              "Text(51.0, 0.5, 'True Label')"
            ]
          },
          "metadata": {},
          "execution_count": 56
        },
        {
          "output_type": "display_data",
          "data": {
            "text/plain": [
              "<Figure size 576x576 with 1 Axes>"
            ],
            "image/png": "[encoded data removed]"
          },
          "metadata": {}
        }
      ],
      "source": [
        "plt.figure(figsize=(8,8))\n",
        "\n",
        "sns.heatmap(data,annot=True,cbar=False,cmap='Blues',fmt='g');\n",
        "plt.xlabel('Predicted Label')\n",
        "plt.ylabel('True Label')"
      ]
    },
    {
      "cell_type": "markdown",
      "id": "aee8e063",
      "metadata": {
        "papermill": {
          "duration": 0.024573,
          "end_time": "2022-11-11T06:40:22.143865",
          "exception": false,
          "start_time": "2022-11-11T06:40:22.119292",
          "status": "completed"
        },
        "tags": [],
        "id": "aee8e063"
      },
      "source": [
        "**We have been successful in decreasing the false negatives (defualters predicted as non-defaulters), achieving the recall of 0.85 for positive class**"
      ]
    },
    {
      "cell_type": "code",
      "source": [],
      "metadata": {
        "id": "qkKcSUv5FN11"
      },
      "id": "qkKcSUv5FN11",
      "execution_count": null,
      "outputs": []
    }
  ],
  "metadata": {
    "kernelspec": {
      "display_name": "Python 3",
      "language": "python",
      "name": "python3"
    },
    "language_info": {
      "codemirror_mode": {
        "name": "ipython",
        "version": 3
      },
      "file_extension": ".py",
      "mimetype": "text/x-python",
      "name": "python",
      "nbconvert_exporter": "python",
      "pygments_lexer": "ipython3",
      "version": "3.7.12"
    },
    "papermill": {
      "default_parameters": {},
      "duration": 717.285264,
      "end_time": "2022-11-11T06:40:24.791247",
      "environment_variables": {},
      "exception": null,
      "input_path": "__notebook__.ipynb",
      "output_path": "__notebook__.ipynb",
      "parameters": {},
      "start_time": "2022-11-11T06:28:27.505983",
      "version": "2.3.4"
    },
    "colab": {
      "provenance": []
    }
  },
  "nbformat": 4,
  "nbformat_minor": 5
}